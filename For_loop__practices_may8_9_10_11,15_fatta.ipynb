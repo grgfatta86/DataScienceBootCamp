{
  "nbformat": 4,
  "nbformat_minor": 0,
  "metadata": {
    "colab": {
      "provenance": [],
      "authorship_tag": "ABX9TyNglSloZm4zAlUfPVeUJni7",
      "include_colab_link": true
    },
    "kernelspec": {
      "name": "python3",
      "display_name": "Python 3"
    },
    "language_info": {
      "name": "python"
    }
  },
  "cells": [
    {
      "cell_type": "markdown",
      "metadata": {
        "id": "view-in-github",
        "colab_type": "text"
      },
      "source": [
        "<a href=\"https://colab.research.google.com/github/grgfatta86/Exercise/blob/main/For_loop__practices_may8_9_10_11%2C15_fatta.ipynb\" target=\"_parent\"><img src=\"https://colab.research.google.com/assets/colab-badge.svg\" alt=\"Open In Colab\"/></a>"
      ]
    },
    {
      "cell_type": "code",
      "source": [
        "# For loop are use for if you know there is start and end.\n",
        "# Data ise when there is definite condition and length then you can run the for loop.\n",
        "# For loops are use when definite condition you know like 10th times, 20 times. then you use loop."
      ],
      "metadata": {
        "id": "PNX1-3lJN3ak"
      },
      "execution_count": null,
      "outputs": []
    },
    {
      "cell_type": "code",
      "source": [
        "#start, stop, step.\n",
        "#stop-1\n",
        "for i in range(1,10,2):\n",
        "  print(i)"
      ],
      "metadata": {
        "colab": {
          "base_uri": "https://localhost:8080/"
        },
        "id": "AI_q9gH4Q5Sm",
        "outputId": "22194430-1cf7-4d60-cabd-6428e20ce21f"
      },
      "execution_count": null,
      "outputs": [
        {
          "output_type": "stream",
          "name": "stdout",
          "text": [
            "1\n",
            "3\n",
            "5\n",
            "7\n",
            "9\n"
          ]
        }
      ]
    },
    {
      "cell_type": "code",
      "source": [
        "#Nested loop\n",
        "for i in range(1,5,1):\n",
        "  for j in range(i*2):\n",
        "    print(j)\n",
        "  print(\"=============\"+str(i)+\"=========\")\n"
      ],
      "metadata": {
        "colab": {
          "base_uri": "https://localhost:8080/"
        },
        "id": "HsQVoshITH37",
        "outputId": "32a136da-fedd-4be7-d4d6-4b8e22249d78"
      },
      "execution_count": null,
      "outputs": [
        {
          "output_type": "stream",
          "name": "stdout",
          "text": [
            "0\n",
            "1\n",
            "=============1=========\n",
            "0\n",
            "1\n",
            "2\n",
            "3\n",
            "=============2=========\n",
            "0\n",
            "1\n",
            "2\n",
            "3\n",
            "4\n",
            "5\n",
            "=============3=========\n",
            "0\n",
            "1\n",
            "2\n",
            "3\n",
            "4\n",
            "5\n",
            "6\n",
            "7\n",
            "=============4=========\n"
          ]
        }
      ]
    },
    {
      "cell_type": "code",
      "source": [
        "# 1) check if a number is prime or not?\n",
        "n=9\n",
        "#2,3,4,5..(n//2=4.5=5)\n",
        "flag=True\n",
        "if n <=1:\n",
        "  print(str(n)+\" is a prime number\")\n",
        "## n//2 sure tesko half le divisible bhayo bhane not a prime number\n",
        "\n",
        "for i in range(2, n//2):\n",
        "  if n%i == 0:\n",
        "    flage=False\n",
        "  if flag:\n",
        "    print(\"Prime Number\")\n",
        "  else:\n",
        "    print(\"Not A Prime Number\")\n"
      ],
      "metadata": {
        "colab": {
          "base_uri": "https://localhost:8080/"
        },
        "id": "J1H_YCGNWsPb",
        "outputId": "9f20d597-6353-41d3-bbe4-659471c4a19c"
      },
      "execution_count": null,
      "outputs": [
        {
          "output_type": "stream",
          "name": "stdout",
          "text": [
            "Prime Number\n",
            "Prime Number\n"
          ]
        }
      ]
    },
    {
      "cell_type": "code",
      "source": [
        "n =13\n",
        "\n",
        "x=True\n",
        "\n",
        "for i in range(2, n):\n",
        "  if n%i==0:\n",
        "    x=False\n",
        "\n",
        "if x==True:\n",
        "    print(\"Prime Number\")\n",
        "else:\n",
        "    print(\"Not Prime\")\n",
        "\n"
      ],
      "metadata": {
        "colab": {
          "base_uri": "https://localhost:8080/"
        },
        "id": "RNBEVzCKiTo8",
        "outputId": "f33a93db-1783-4de3-f517-66caf0ae59bb"
      },
      "execution_count": null,
      "outputs": [
        {
          "output_type": "stream",
          "name": "stdout",
          "text": [
            "Prime Number\n"
          ]
        }
      ]
    },
    {
      "cell_type": "code",
      "source": [
        "# 2) print all prime numbers till a given range suppose n=11 3,5,7"
      ],
      "metadata": {
        "id": "O5zgZB11kzHK"
      },
      "execution_count": null,
      "outputs": []
    },
    {
      "cell_type": "code",
      "source": [
        "n=11\n",
        "# 2,3,4,5,6,7,8,9,10\n",
        "## checking if the number is prime or not\n",
        "for num in range(2, n):\n",
        "  for i in range(2, num):\n",
        "    if (num%i) ==0:\n",
        "        break\n",
        "\n",
        "  else:\n",
        "    print(str(num)+\" is a prime number\")"
      ],
      "metadata": {
        "colab": {
          "base_uri": "https://localhost:8080/"
        },
        "id": "RkCRWjlnm9P7",
        "outputId": "19afa334-4bf2-4c5d-862f-997cca3263fb"
      },
      "execution_count": null,
      "outputs": [
        {
          "output_type": "stream",
          "name": "stdout",
          "text": [
            "2 is a prime number\n",
            "3 is a prime number\n",
            "5 is a prime number\n",
            "7 is a prime number\n"
          ]
        }
      ]
    },
    {
      "cell_type": "code",
      "source": [
        "n=10\n",
        "# 2,3,4,5,6,7,8,9,10\n",
        "## checking if the number is prime or not\n",
        "for i in range(2, n):\n",
        "  for j in range(2, i):\n",
        "    if (i%j) ==0:\n",
        "        break\n",
        "\n",
        "  else:\n",
        "    print(str(i)+\" is a prime number\")"
      ],
      "metadata": {
        "colab": {
          "base_uri": "https://localhost:8080/"
        },
        "id": "8ABava9dm8ws",
        "outputId": "2d00f64e-7bf9-4802-c23f-e183e7c6f4dd"
      },
      "execution_count": null,
      "outputs": [
        {
          "output_type": "stream",
          "name": "stdout",
          "text": [
            "2 is a prime number\n",
            "3 is a prime number\n",
            "5 is a prime number\n",
            "7 is a prime number\n"
          ]
        }
      ]
    },
    {
      "cell_type": "code",
      "source": [
        "## Calculate the sum of all numbers from 1 to a given number\n",
        "n=5\n",
        "b=0\n",
        "for i in range(1, n+1): # (1, 5+1), 1,2,3,4,5\n",
        "  b=b+i ## 0=0+1, 1=1+2, 3=3+3, 6=6+4, 10=10+5, 15\n",
        "print(b)"
      ],
      "metadata": {
        "colab": {
          "base_uri": "https://localhost:8080/"
        },
        "id": "lFn-2QLdnCdV",
        "outputId": "afb0096a-bbfc-411d-b81e-92f54f89d16a"
      },
      "execution_count": null,
      "outputs": [
        {
          "output_type": "stream",
          "name": "stdout",
          "text": [
            "15\n"
          ]
        }
      ]
    },
    {
      "cell_type": "code",
      "source": [
        "n=20\n",
        "sum=0\n",
        "for i in range(1, n+1):\n",
        "  sum=sum+i\n",
        "print(sum)"
      ],
      "metadata": {
        "colab": {
          "base_uri": "https://localhost:8080/"
        },
        "id": "NFbNMT7wsuxt",
        "outputId": "5f40d912-f948-4763-aafb-a556977c8b6f"
      },
      "execution_count": null,
      "outputs": [
        {
          "output_type": "stream",
          "name": "stdout",
          "text": [
            "210\n"
          ]
        }
      ]
    },
    {
      "cell_type": "code",
      "source": [
        "# count total number of digits ina number\n",
        "# method: loop (works for negative floats too)\n",
        "n=str(input(\"enter number\"))\n",
        "count=0\n",
        "\n",
        "for i in n: # n is a string, loop iterates through each element in the string\n",
        "  if i.isdigit(): #isdigit() checks if each subscript in a string is digit or not\n",
        "    count=count+1\n",
        "print(\"the number of digit is:\", count)\n"
      ],
      "metadata": {
        "colab": {
          "base_uri": "https://localhost:8080/"
        },
        "id": "aI0Ge_PHs6ov",
        "outputId": "bf3b4e7f-840f-4ff5-db6f-952deb283eaf"
      },
      "execution_count": null,
      "outputs": [
        {
          "output_type": "stream",
          "name": "stdout",
          "text": [
            "enter number456678\n",
            "the number of digit is: 6\n"
          ]
        }
      ]
    },
    {
      "cell_type": "code",
      "source": [
        "n=str(input(\"enter number\"))\n",
        "count=0\n",
        "\n",
        "for i in n:\n",
        "  if i.isdigit():\n",
        "    count=count+1\n",
        "print(\"the number of digit is:\", count)\n"
      ],
      "metadata": {
        "colab": {
          "base_uri": "https://localhost:8080/"
        },
        "id": "4u16681AvR5i",
        "outputId": "7881475c-51d8-4d6e-8f0f-553fea8416dd"
      },
      "execution_count": null,
      "outputs": [
        {
          "output_type": "stream",
          "name": "stdout",
          "text": [
            "enter number6998798798\n",
            "the number of digit is: 10\n"
          ]
        }
      ]
    },
    {
      "cell_type": "code",
      "source": [
        "x=455\n",
        "counter =1\n",
        "\n",
        "for i in range(0, x):\n",
        "  if x//10>0:\n",
        "    counter=counter+1\n",
        "    x = x//10\n",
        "  else:\n",
        "    break\n",
        "print(\"The number is \" + str(counter) + \"digits long.\")\n"
      ],
      "metadata": {
        "colab": {
          "base_uri": "https://localhost:8080/"
        },
        "id": "PveB6DDZv-s1",
        "outputId": "2a3d814b-a97d-4758-f93b-224fb6439ac6"
      },
      "execution_count": null,
      "outputs": [
        {
          "output_type": "stream",
          "name": "stdout",
          "text": [
            "The number is 3digits long.\n"
          ]
        }
      ]
    },
    {
      "cell_type": "code",
      "source": [
        "x=220020\n",
        "counter=1\n",
        "\n",
        "for i in range(0,x):\n",
        "  if x//10>0:\n",
        "    print('Before changing', counter)\n",
        "    counter+=1\n",
        "    x/=10\n",
        "    print('After', counter)"
      ],
      "metadata": {
        "colab": {
          "base_uri": "https://localhost:8080/"
        },
        "id": "hblHfKfOYBIk",
        "outputId": "0a81c10e-0268-4201-bc77-da31d2ef63c6"
      },
      "execution_count": null,
      "outputs": [
        {
          "output_type": "stream",
          "name": "stdout",
          "text": [
            "Before changing 1\n",
            "After 2\n",
            "Before changing 2\n",
            "After 3\n",
            "Before changing 3\n",
            "After 4\n",
            "Before changing 4\n",
            "After 5\n",
            "Before changing 5\n",
            "After 6\n"
          ]
        }
      ]
    },
    {
      "cell_type": "code",
      "source": [
        "## reverse a given interger number\n",
        "num = input('Enter any number : ')\n",
        "try:\n",
        "    val = int(num)\n",
        "    print('Reverse of the given number is : ', str(num)[::-1])\n",
        "except ValueError:\n",
        "    print(\"That's not a valid number!\")"
      ],
      "metadata": {
        "colab": {
          "base_uri": "https://localhost:8080/"
        },
        "id": "lV0hgoGNZT_w",
        "outputId": "32de5450-56ad-456e-f6a7-254763a4aa7e"
      },
      "execution_count": null,
      "outputs": [
        {
          "output_type": "stream",
          "name": "stdout",
          "text": [
            "Enter any number : 58687987\n",
            "Reverse of the given number is :  78978685\n"
          ]
        }
      ]
    },
    {
      "cell_type": "code",
      "source": [
        "n=1263545\n",
        "num=str(n)\n",
        "b=(num[::-1])\n",
        "print(b)"
      ],
      "metadata": {
        "colab": {
          "base_uri": "https://localhost:8080/"
        },
        "id": "G80JTxNebdg4",
        "outputId": "30c299d4-ec3b-4875-cd32-e2313889f5da"
      },
      "execution_count": null,
      "outputs": [
        {
          "output_type": "stream",
          "name": "stdout",
          "text": [
            "5453621\n"
          ]
        }
      ]
    },
    {
      "cell_type": "code",
      "source": [
        "a=839467162571\n",
        "b=str(a)\n",
        "c=(b[::-1])\n",
        "print(c)"
      ],
      "metadata": {
        "colab": {
          "base_uri": "https://localhost:8080/"
        },
        "id": "2KqPsRxebtJD",
        "outputId": "285d3177-7f9d-473b-bd8f-5015730a22af"
      },
      "execution_count": null,
      "outputs": [
        {
          "output_type": "stream",
          "name": "stdout",
          "text": [
            "175261764938\n"
          ]
        }
      ]
    },
    {
      "cell_type": "code",
      "source": [
        "n=int(input(\"Enter the number: \"))\n",
        "rev_num = str(n)[::-1]\n",
        "print(rev_num)\n"
      ],
      "metadata": {
        "colab": {
          "base_uri": "https://localhost:8080/"
        },
        "id": "vXSDHh1PdUF0",
        "outputId": "5216f7db-7ede-426a-8469-6285720726db"
      },
      "execution_count": null,
      "outputs": [
        {
          "output_type": "stream",
          "name": "stdout",
          "text": [
            "Enter the number: 87679789\n",
            "98797678\n"
          ]
        }
      ]
    },
    {
      "cell_type": "code",
      "source": [
        "num=int(input(\"Enter the number: \"))\n",
        "rev_num=str(num)[::-1]\n",
        "print(rev_num)"
      ],
      "metadata": {
        "colab": {
          "base_uri": "https://localhost:8080/"
        },
        "id": "o4JvupIMeqS7",
        "outputId": "6e24a957-89f4-41e1-9c35-f91027775f4e"
      },
      "execution_count": null,
      "outputs": [
        {
          "output_type": "stream",
          "name": "stdout",
          "text": [
            "Enter the number: 3543534\n",
            "4353453\n"
          ]
        }
      ]
    },
    {
      "cell_type": "code",
      "source": [
        "cube=0\n",
        "for i in range(1,9):\n",
        "  print(i, end=' ')\n",
        "  cube = i*i*i\n",
        "  print(cube)"
      ],
      "metadata": {
        "colab": {
          "base_uri": "https://localhost:8080/"
        },
        "id": "efkVKGNugwF3",
        "outputId": "6e70660f-c411-404a-eab8-8595757a5481"
      },
      "execution_count": null,
      "outputs": [
        {
          "output_type": "stream",
          "name": "stdout",
          "text": [
            "1 1\n",
            "2 8\n",
            "3 27\n",
            "4 64\n",
            "5 125\n",
            "6 216\n",
            "7 343\n",
            "8 512\n"
          ]
        }
      ]
    },
    {
      "cell_type": "code",
      "source": [
        "cube=0\n",
        "for i in range(1,9):\n",
        "  print(i, end=' ')\n",
        "  cube = i*i*i\n",
        "  print(\"***\", i, \"=\", cube)"
      ],
      "metadata": {
        "colab": {
          "base_uri": "https://localhost:8080/"
        },
        "id": "10cLKQpjih5e",
        "outputId": "26455f87-1df8-4ba5-f821-ae788429f4b5"
      },
      "execution_count": null,
      "outputs": [
        {
          "output_type": "stream",
          "name": "stdout",
          "text": [
            "1 *** 1 = 1\n",
            "2 *** 2 = 8\n",
            "3 *** 3 = 27\n",
            "4 *** 4 = 64\n",
            "5 *** 5 = 125\n",
            "6 *** 6 = 216\n",
            "7 *** 7 = 343\n",
            "8 *** 8 = 512\n"
          ]
        }
      ]
    },
    {
      "cell_type": "code",
      "source": [
        "##For loop is where we know how much steps we have to move. if we know how much we have to move steps then use for loop. there is fixed steps\n",
        "## But there are no difinite step but only a condition thats need to meet then use while loops."
      ],
      "metadata": {
        "id": "Cp-K36gii0_k"
      },
      "execution_count": null,
      "outputs": []
    },
    {
      "cell_type": "code",
      "source": [
        "a=5\n",
        "while a>0: ## condition you have passing to it.\n",
        "  print(\"value of a in this iteration is\", a)\n",
        "  a=a-1 ## whatever condition you are passing should be manupulated inside the loop itself.\n",
        "  print(\"Hey\")"
      ],
      "metadata": {
        "colab": {
          "base_uri": "https://localhost:8080/"
        },
        "id": "RaC3axQtmcx2",
        "outputId": "d87953ce-51a4-44ee-98ee-7a0c410d3054"
      },
      "execution_count": null,
      "outputs": [
        {
          "output_type": "stream",
          "name": "stdout",
          "text": [
            "value of a in this iteration is 5\n",
            "Hey\n",
            "value of a in this iteration is 4\n",
            "Hey\n",
            "value of a in this iteration is 3\n",
            "Hey\n",
            "value of a in this iteration is 2\n",
            "Hey\n",
            "value of a in this iteration is 1\n",
            "Hey\n"
          ]
        }
      ]
    },
    {
      "cell_type": "code",
      "source": [
        "a=5\n",
        "while a>=0:\n",
        "  print(\"value of a in this iteration is\", a)\n",
        "  if a==2:\n",
        "    break\n",
        "  else:\n",
        "    print(a) ## it tells a==2 condn not met yet so go aging up\n",
        "  a=a-1\n",
        "\n",
        "  ## 1st iteration 5 a=a-1 a=4 now\n",
        "  ## 2nd iteration 4 a=a-1 a=3 now\n",
        "  ## 3nd iteration 4 a=a-1 a=3 now"
      ],
      "metadata": {
        "colab": {
          "base_uri": "https://localhost:8080/"
        },
        "id": "uNHINt8rx0zK",
        "outputId": "6147e61e-3ae8-4f14-a225-46b210e52f3b"
      },
      "execution_count": null,
      "outputs": [
        {
          "output_type": "stream",
          "name": "stdout",
          "text": [
            "value of a in this iteration is 5\n",
            "5\n",
            "value of a in this iteration is 4\n",
            "4\n",
            "value of a in this iteration is 3\n",
            "3\n",
            "value of a in this iteration is 2\n"
          ]
        }
      ]
    },
    {
      "cell_type": "code",
      "source": [
        "a=7\n",
        "while a>=0:\n",
        "  if a==2:\n",
        "    break\n",
        "  else:\n",
        "    print(a)\n",
        "  a=a-1\n"
      ],
      "metadata": {
        "colab": {
          "base_uri": "https://localhost:8080/"
        },
        "id": "w9Zdi2gX13wE",
        "outputId": "ae87ea9a-c996-4c44-a57e-69bc1f82a42f"
      },
      "execution_count": null,
      "outputs": [
        {
          "output_type": "stream",
          "name": "stdout",
          "text": [
            "7\n",
            "6\n",
            "5\n",
            "4\n",
            "3\n"
          ]
        }
      ]
    },
    {
      "cell_type": "code",
      "source": [
        "a=5\n",
        "while a>0:\n",
        "  ## print(\"value of a in this iteration is\", a)\n",
        "  a=a-1\n",
        "  if a==2:\n",
        "    print(\"value of A was 2 here\")\n",
        "    continue\n",
        "  else:\n",
        "    print(a)\n",
        "\n",
        "  ## continue falls back to while loop directly ignoring stuff below if a=a-1 not above if function."
      ],
      "metadata": {
        "colab": {
          "base_uri": "https://localhost:8080/"
        },
        "id": "hIRl07hG4AU8",
        "outputId": "7034752b-3502-4f14-c72c-75635072b169"
      },
      "execution_count": null,
      "outputs": [
        {
          "output_type": "stream",
          "name": "stdout",
          "text": [
            "4\n",
            "3\n",
            "value of A was 2 here\n",
            "1\n",
            "0\n"
          ]
        }
      ]
    },
    {
      "cell_type": "code",
      "source": [
        "str1=\"abcd\"\n",
        "for i in range(len(str1)): #0,4,1\n",
        "  print(i)"
      ],
      "metadata": {
        "colab": {
          "base_uri": "https://localhost:8080/"
        },
        "id": "beUlLwKq4aPa",
        "outputId": "5472e1f5-15bf-4c9f-be8e-b284088570e7"
      },
      "execution_count": null,
      "outputs": [
        {
          "output_type": "stream",
          "name": "stdout",
          "text": [
            "0\n",
            "1\n",
            "2\n",
            "3\n"
          ]
        }
      ]
    },
    {
      "cell_type": "code",
      "source": [
        "str1=\"abcd\"\n",
        "for i in range(len(str1)):\n",
        "  print(str1[i])"
      ],
      "metadata": {
        "colab": {
          "base_uri": "https://localhost:8080/"
        },
        "id": "mpSiqH058tUn",
        "outputId": "7bba0126-aa4a-447d-d5a1-7d79cb3740ad"
      },
      "execution_count": null,
      "outputs": [
        {
          "output_type": "stream",
          "name": "stdout",
          "text": [
            "a\n",
            "b\n",
            "c\n",
            "d\n"
          ]
        }
      ]
    },
    {
      "cell_type": "code",
      "source": [
        "str2=\"abcdefgh\"\n",
        "for i in range(len(str2)):\n",
        "  print(str2[i])"
      ],
      "metadata": {
        "colab": {
          "base_uri": "https://localhost:8080/"
        },
        "id": "VDlkmP0C9Yjx",
        "outputId": "3e355655-fcef-4172-c56f-46824690ce82"
      },
      "execution_count": null,
      "outputs": [
        {
          "output_type": "stream",
          "name": "stdout",
          "text": [
            "a\n",
            "b\n",
            "c\n",
            "d\n",
            "e\n",
            "f\n",
            "g\n",
            "h\n"
          ]
        }
      ]
    },
    {
      "cell_type": "code",
      "source": [
        "str3=\"abjdkjd\"\n",
        "for i in range(len(str3)): ##give index\n",
        "  print(i)"
      ],
      "metadata": {
        "colab": {
          "base_uri": "https://localhost:8080/"
        },
        "id": "XfxRrXGA9t5u",
        "outputId": "69a8203c-8777-4a21-bffe-4f1cc1254727"
      },
      "execution_count": null,
      "outputs": [
        {
          "output_type": "stream",
          "name": "stdout",
          "text": [
            "0\n",
            "1\n",
            "2\n",
            "3\n",
            "4\n",
            "5\n",
            "6\n"
          ]
        }
      ]
    },
    {
      "cell_type": "code",
      "source": [
        "str4=\"abcdef\"\n",
        "for k in str4: ## without using range function\n",
        "  print(k)"
      ],
      "metadata": {
        "colab": {
          "base_uri": "https://localhost:8080/"
        },
        "id": "djHXwaUQ_SS3",
        "outputId": "97c38217-3dc1-4b7f-fec0-af58a08bf1da"
      },
      "execution_count": null,
      "outputs": [
        {
          "output_type": "stream",
          "name": "stdout",
          "text": [
            "a\n",
            "b\n",
            "c\n",
            "d\n",
            "e\n",
            "f\n"
          ]
        }
      ]
    },
    {
      "cell_type": "code",
      "source": [
        "for k in [\"abc\",\"b\",\"c\",3]:\n",
        "  print(k)\n"
      ],
      "metadata": {
        "colab": {
          "base_uri": "https://localhost:8080/"
        },
        "id": "3uTwwOEV_est",
        "outputId": "891c7984-bcd0-49bf-bb37-982b653bc2ca"
      },
      "execution_count": null,
      "outputs": [
        {
          "output_type": "stream",
          "name": "stdout",
          "text": [
            "abc\n",
            "b\n",
            "c\n",
            "3\n"
          ]
        }
      ]
    },
    {
      "cell_type": "code",
      "source": [
        "for k in ['azv','b','o',6]:\n",
        "  print(k,end=\" \")\n"
      ],
      "metadata": {
        "colab": {
          "base_uri": "https://localhost:8080/"
        },
        "id": "YDxBzIZdBQtw",
        "outputId": "02b49483-c0c4-4382-9d98-4213a68396d8"
      },
      "execution_count": null,
      "outputs": [
        {
          "output_type": "stream",
          "name": "stdout",
          "text": [
            "azv b o 6 "
          ]
        }
      ]
    },
    {
      "cell_type": "code",
      "source": [
        "## write a python program to count the number of characters(character frequency) in a string.\n",
        "a=\"i leave in kathmandu\"\n",
        "for k in set(a):\n",
        "  print(\"Frequency of \"+str(k) + \" is :-\", a.count(k))\n"
      ],
      "metadata": {
        "colab": {
          "base_uri": "https://localhost:8080/"
        },
        "id": "xKu8wN1eB4TB",
        "outputId": "f5de9f93-3a3c-4670-d486-04bec345bdae"
      },
      "execution_count": null,
      "outputs": [
        {
          "output_type": "stream",
          "name": "stdout",
          "text": [
            "Frequency of v is :- 1\n",
            "Frequency of k is :- 1\n",
            "Frequency of d is :- 1\n",
            "Frequency of e is :- 2\n",
            "Frequency of t is :- 1\n",
            "Frequency of h is :- 1\n",
            "Frequency of   is :- 3\n",
            "Frequency of n is :- 2\n",
            "Frequency of m is :- 1\n",
            "Frequency of l is :- 1\n",
            "Frequency of u is :- 1\n",
            "Frequency of i is :- 2\n",
            "Frequency of a is :- 3\n"
          ]
        }
      ]
    },
    {
      "cell_type": "code",
      "source": [
        "a=\"hello world i hope everyone is doing well\"\n",
        "for k in set(a):\n",
        "  print(\"Frequency of \"+str(k) + \" is :- \",a.count(k))"
      ],
      "metadata": {
        "colab": {
          "base_uri": "https://localhost:8080/"
        },
        "id": "9a0Qc93AFZub",
        "outputId": "7fb7fd71-d7dd-47e4-f991-fb1d9e7c3b3e"
      },
      "execution_count": null,
      "outputs": [
        {
          "output_type": "stream",
          "name": "stdout",
          "text": [
            "Frequency of v is :-  1\n",
            "Frequency of d is :-  2\n",
            "Frequency of w is :-  2\n",
            "Frequency of e is :-  6\n",
            "Frequency of o is :-  5\n",
            "Frequency of r is :-  2\n",
            "Frequency of h is :-  2\n",
            "Frequency of p is :-  1\n",
            "Frequency of   is :-  7\n",
            "Frequency of y is :-  1\n",
            "Frequency of n is :-  2\n",
            "Frequency of g is :-  1\n",
            "Frequency of l is :-  5\n",
            "Frequency of s is :-  1\n",
            "Frequency of i is :-  3\n"
          ]
        }
      ]
    },
    {
      "cell_type": "code",
      "source": [
        "a=\"hello world i hope everyone is doing well\"\n",
        "for k in set(a):\n",
        "  freq=0\n",
        "  for j in a:\n",
        "    if k==j: ## if k==j then increase the frequency\n",
        "      freq=freq+1\n",
        "  print(\"Frequency of \"+str(k) +\"is :- \",freq)"
      ],
      "metadata": {
        "colab": {
          "base_uri": "https://localhost:8080/"
        },
        "id": "7HxCl_CFG7cw",
        "outputId": "243634d7-e04e-412d-a6fc-229d39f829cc"
      },
      "execution_count": null,
      "outputs": [
        {
          "output_type": "stream",
          "name": "stdout",
          "text": [
            "Frequency of vis :-  1\n",
            "Frequency of dis :-  2\n",
            "Frequency of wis :-  2\n",
            "Frequency of eis :-  6\n",
            "Frequency of ois :-  5\n",
            "Frequency of ris :-  2\n",
            "Frequency of his :-  2\n",
            "Frequency of pis :-  1\n",
            "Frequency of  is :-  7\n",
            "Frequency of yis :-  1\n",
            "Frequency of nis :-  2\n",
            "Frequency of gis :-  1\n",
            "Frequency of lis :-  5\n",
            "Frequency of sis :-  1\n",
            "Frequency of iis :-  3\n"
          ]
        }
      ]
    },
    {
      "cell_type": "code",
      "source": [
        "a=\"hello world i hope everyone is doing well\"\n",
        "for k in set(a):\n",
        "  print(k)\n",
        " # freq=0\n",
        "  #for j in a:\n",
        "   # if k==j:\n",
        "      #freq=freq+1\n",
        "  #print(\"Frequency of \"+str(k) +\"is :- \",freq)"
      ],
      "metadata": {
        "colab": {
          "base_uri": "https://localhost:8080/"
        },
        "id": "6eCYA6FFJdrC",
        "outputId": "5a9def1a-1988-4817-f0e2-01626f0fa778"
      },
      "execution_count": null,
      "outputs": [
        {
          "output_type": "stream",
          "name": "stdout",
          "text": [
            "v\n",
            "d\n",
            "w\n",
            "e\n",
            "o\n",
            "r\n",
            "h\n",
            "p\n",
            " \n",
            "y\n",
            "n\n",
            "g\n",
            "l\n",
            "s\n",
            "i\n"
          ]
        }
      ]
    },
    {
      "cell_type": "code",
      "source": [
        "a=\"hello world i hope everyone is doing well\"\n",
        "for k in set(a):\n",
        "  freq=0\n",
        "  for j in a:\n",
        "    print(j)\n",
        "    #if k==j: ## if k==j then increase the frequency\n",
        "      #freq=freq+1\n",
        "  #print(\"Frequency of \"+str(k) +\"is :- \",freq)"
      ],
      "metadata": {
        "colab": {
          "base_uri": "https://localhost:8080/"
        },
        "id": "XfOvKNwNKWS4",
        "outputId": "a77cbc45-ad60-4ad1-a85a-f865db2492ab"
      },
      "execution_count": null,
      "outputs": [
        {
          "output_type": "stream",
          "name": "stdout",
          "text": [
            "h\n",
            "e\n",
            "l\n",
            "l\n",
            "o\n",
            " \n",
            "w\n",
            "o\n",
            "r\n",
            "l\n",
            "d\n",
            " \n",
            "i\n",
            " \n",
            "h\n",
            "o\n",
            "p\n",
            "e\n",
            " \n",
            "e\n",
            "v\n",
            "e\n",
            "r\n",
            "y\n",
            "o\n",
            "n\n",
            "e\n",
            " \n",
            "i\n",
            "s\n",
            " \n",
            "d\n",
            "o\n",
            "i\n",
            "n\n",
            "g\n",
            " \n",
            "w\n",
            "e\n",
            "l\n",
            "l\n",
            "h\n",
            "e\n",
            "l\n",
            "l\n",
            "o\n",
            " \n",
            "w\n",
            "o\n",
            "r\n",
            "l\n",
            "d\n",
            " \n",
            "i\n",
            " \n",
            "h\n",
            "o\n",
            "p\n",
            "e\n",
            " \n",
            "e\n",
            "v\n",
            "e\n",
            "r\n",
            "y\n",
            "o\n",
            "n\n",
            "e\n",
            " \n",
            "i\n",
            "s\n",
            " \n",
            "d\n",
            "o\n",
            "i\n",
            "n\n",
            "g\n",
            " \n",
            "w\n",
            "e\n",
            "l\n",
            "l\n",
            "h\n",
            "e\n",
            "l\n",
            "l\n",
            "o\n",
            " \n",
            "w\n",
            "o\n",
            "r\n",
            "l\n",
            "d\n",
            " \n",
            "i\n",
            " \n",
            "h\n",
            "o\n",
            "p\n",
            "e\n",
            " \n",
            "e\n",
            "v\n",
            "e\n",
            "r\n",
            "y\n",
            "o\n",
            "n\n",
            "e\n",
            " \n",
            "i\n",
            "s\n",
            " \n",
            "d\n",
            "o\n",
            "i\n",
            "n\n",
            "g\n",
            " \n",
            "w\n",
            "e\n",
            "l\n",
            "l\n",
            "h\n",
            "e\n",
            "l\n",
            "l\n",
            "o\n",
            " \n",
            "w\n",
            "o\n",
            "r\n",
            "l\n",
            "d\n",
            " \n",
            "i\n",
            " \n",
            "h\n",
            "o\n",
            "p\n",
            "e\n",
            " \n",
            "e\n",
            "v\n",
            "e\n",
            "r\n",
            "y\n",
            "o\n",
            "n\n",
            "e\n",
            " \n",
            "i\n",
            "s\n",
            " \n",
            "d\n",
            "o\n",
            "i\n",
            "n\n",
            "g\n",
            " \n",
            "w\n",
            "e\n",
            "l\n",
            "l\n",
            "h\n",
            "e\n",
            "l\n",
            "l\n",
            "o\n",
            " \n",
            "w\n",
            "o\n",
            "r\n",
            "l\n",
            "d\n",
            " \n",
            "i\n",
            " \n",
            "h\n",
            "o\n",
            "p\n",
            "e\n",
            " \n",
            "e\n",
            "v\n",
            "e\n",
            "r\n",
            "y\n",
            "o\n",
            "n\n",
            "e\n",
            " \n",
            "i\n",
            "s\n",
            " \n",
            "d\n",
            "o\n",
            "i\n",
            "n\n",
            "g\n",
            " \n",
            "w\n",
            "e\n",
            "l\n",
            "l\n",
            "h\n",
            "e\n",
            "l\n",
            "l\n",
            "o\n",
            " \n",
            "w\n",
            "o\n",
            "r\n",
            "l\n",
            "d\n",
            " \n",
            "i\n",
            " \n",
            "h\n",
            "o\n",
            "p\n",
            "e\n",
            " \n",
            "e\n",
            "v\n",
            "e\n",
            "r\n",
            "y\n",
            "o\n",
            "n\n",
            "e\n",
            " \n",
            "i\n",
            "s\n",
            " \n",
            "d\n",
            "o\n",
            "i\n",
            "n\n",
            "g\n",
            " \n",
            "w\n",
            "e\n",
            "l\n",
            "l\n",
            "h\n",
            "e\n",
            "l\n",
            "l\n",
            "o\n",
            " \n",
            "w\n",
            "o\n",
            "r\n",
            "l\n",
            "d\n",
            " \n",
            "i\n",
            " \n",
            "h\n",
            "o\n",
            "p\n",
            "e\n",
            " \n",
            "e\n",
            "v\n",
            "e\n",
            "r\n",
            "y\n",
            "o\n",
            "n\n",
            "e\n",
            " \n",
            "i\n",
            "s\n",
            " \n",
            "d\n",
            "o\n",
            "i\n",
            "n\n",
            "g\n",
            " \n",
            "w\n",
            "e\n",
            "l\n",
            "l\n",
            "h\n",
            "e\n",
            "l\n",
            "l\n",
            "o\n",
            " \n",
            "w\n",
            "o\n",
            "r\n",
            "l\n",
            "d\n",
            " \n",
            "i\n",
            " \n",
            "h\n",
            "o\n",
            "p\n",
            "e\n",
            " \n",
            "e\n",
            "v\n",
            "e\n",
            "r\n",
            "y\n",
            "o\n",
            "n\n",
            "e\n",
            " \n",
            "i\n",
            "s\n",
            " \n",
            "d\n",
            "o\n",
            "i\n",
            "n\n",
            "g\n",
            " \n",
            "w\n",
            "e\n",
            "l\n",
            "l\n",
            "h\n",
            "e\n",
            "l\n",
            "l\n",
            "o\n",
            " \n",
            "w\n",
            "o\n",
            "r\n",
            "l\n",
            "d\n",
            " \n",
            "i\n",
            " \n",
            "h\n",
            "o\n",
            "p\n",
            "e\n",
            " \n",
            "e\n",
            "v\n",
            "e\n",
            "r\n",
            "y\n",
            "o\n",
            "n\n",
            "e\n",
            " \n",
            "i\n",
            "s\n",
            " \n",
            "d\n",
            "o\n",
            "i\n",
            "n\n",
            "g\n",
            " \n",
            "w\n",
            "e\n",
            "l\n",
            "l\n",
            "h\n",
            "e\n",
            "l\n",
            "l\n",
            "o\n",
            " \n",
            "w\n",
            "o\n",
            "r\n",
            "l\n",
            "d\n",
            " \n",
            "i\n",
            " \n",
            "h\n",
            "o\n",
            "p\n",
            "e\n",
            " \n",
            "e\n",
            "v\n",
            "e\n",
            "r\n",
            "y\n",
            "o\n",
            "n\n",
            "e\n",
            " \n",
            "i\n",
            "s\n",
            " \n",
            "d\n",
            "o\n",
            "i\n",
            "n\n",
            "g\n",
            " \n",
            "w\n",
            "e\n",
            "l\n",
            "l\n",
            "h\n",
            "e\n",
            "l\n",
            "l\n",
            "o\n",
            " \n",
            "w\n",
            "o\n",
            "r\n",
            "l\n",
            "d\n",
            " \n",
            "i\n",
            " \n",
            "h\n",
            "o\n",
            "p\n",
            "e\n",
            " \n",
            "e\n",
            "v\n",
            "e\n",
            "r\n",
            "y\n",
            "o\n",
            "n\n",
            "e\n",
            " \n",
            "i\n",
            "s\n",
            " \n",
            "d\n",
            "o\n",
            "i\n",
            "n\n",
            "g\n",
            " \n",
            "w\n",
            "e\n",
            "l\n",
            "l\n",
            "h\n",
            "e\n",
            "l\n",
            "l\n",
            "o\n",
            " \n",
            "w\n",
            "o\n",
            "r\n",
            "l\n",
            "d\n",
            " \n",
            "i\n",
            " \n",
            "h\n",
            "o\n",
            "p\n",
            "e\n",
            " \n",
            "e\n",
            "v\n",
            "e\n",
            "r\n",
            "y\n",
            "o\n",
            "n\n",
            "e\n",
            " \n",
            "i\n",
            "s\n",
            " \n",
            "d\n",
            "o\n",
            "i\n",
            "n\n",
            "g\n",
            " \n",
            "w\n",
            "e\n",
            "l\n",
            "l\n",
            "h\n",
            "e\n",
            "l\n",
            "l\n",
            "o\n",
            " \n",
            "w\n",
            "o\n",
            "r\n",
            "l\n",
            "d\n",
            " \n",
            "i\n",
            " \n",
            "h\n",
            "o\n",
            "p\n",
            "e\n",
            " \n",
            "e\n",
            "v\n",
            "e\n",
            "r\n",
            "y\n",
            "o\n",
            "n\n",
            "e\n",
            " \n",
            "i\n",
            "s\n",
            " \n",
            "d\n",
            "o\n",
            "i\n",
            "n\n",
            "g\n",
            " \n",
            "w\n",
            "e\n",
            "l\n",
            "l\n",
            "h\n",
            "e\n",
            "l\n",
            "l\n",
            "o\n",
            " \n",
            "w\n",
            "o\n",
            "r\n",
            "l\n",
            "d\n",
            " \n",
            "i\n",
            " \n",
            "h\n",
            "o\n",
            "p\n",
            "e\n",
            " \n",
            "e\n",
            "v\n",
            "e\n",
            "r\n",
            "y\n",
            "o\n",
            "n\n",
            "e\n",
            " \n",
            "i\n",
            "s\n",
            " \n",
            "d\n",
            "o\n",
            "i\n",
            "n\n",
            "g\n",
            " \n",
            "w\n",
            "e\n",
            "l\n",
            "l\n",
            "h\n",
            "e\n",
            "l\n",
            "l\n",
            "o\n",
            " \n",
            "w\n",
            "o\n",
            "r\n",
            "l\n",
            "d\n",
            " \n",
            "i\n",
            " \n",
            "h\n",
            "o\n",
            "p\n",
            "e\n",
            " \n",
            "e\n",
            "v\n",
            "e\n",
            "r\n",
            "y\n",
            "o\n",
            "n\n",
            "e\n",
            " \n",
            "i\n",
            "s\n",
            " \n",
            "d\n",
            "o\n",
            "i\n",
            "n\n",
            "g\n",
            " \n",
            "w\n",
            "e\n",
            "l\n",
            "l\n"
          ]
        }
      ]
    },
    {
      "cell_type": "code",
      "source": [
        "## Python program to convert lower letter to upper and upper to lower in a string.\n",
        "a=\"I am From Nepal.Where Are you From.\"\n",
        "if (a.isupper):\n",
        "  print(a.lower())\n",
        "if (a.islower):\n",
        "  print(a.upper())"
      ],
      "metadata": {
        "colab": {
          "base_uri": "https://localhost:8080/"
        },
        "id": "9XS-YN9Y1CGv",
        "outputId": "13baa76f-c672-4bc0-d848-9c8a0e36129f"
      },
      "execution_count": null,
      "outputs": [
        {
          "output_type": "stream",
          "name": "stdout",
          "text": [
            "i am from nepal.where are you from.\n",
            "I AM FROM NEPAL.WHERE ARE YOU FROM.\n"
          ]
        }
      ]
    },
    {
      "cell_type": "code",
      "source": [
        "a=\"I am From Nepal.Where Are you From.\"\n",
        "\n",
        "print(a.lower())\n",
        "\n",
        "print(a.upper())"
      ],
      "metadata": {
        "colab": {
          "base_uri": "https://localhost:8080/"
        },
        "id": "cpY2uSbW3Ghc",
        "outputId": "7e71bd5e-d0fb-4903-f872-3c4abfa95288"
      },
      "execution_count": null,
      "outputs": [
        {
          "output_type": "stream",
          "name": "stdout",
          "text": [
            "i am from nepal.where are you from.\n",
            "I AM FROM NEPAL.WHERE ARE YOU FROM.\n"
          ]
        }
      ]
    },
    {
      "cell_type": "code",
      "source": [
        "swapped_string= \" \"\n",
        "name = \"I am From Nepal.Where Are you From.\"\n",
        "for k in name:\n",
        "  if k.isupper():\n",
        "    swapped_string=swapped_string+k.lower()\n",
        "  else:\n",
        "    swapped_string=swapped_string+k.upper()\n",
        "print(swapped_string)\n"
      ],
      "metadata": {
        "colab": {
          "base_uri": "https://localhost:8080/"
        },
        "id": "Ey5QMM0B8kx7",
        "outputId": "a4017dd8-44a5-4a96-f6d3-cf8438dae9a0"
      },
      "execution_count": null,
      "outputs": [
        {
          "output_type": "stream",
          "name": "stdout",
          "text": [
            " i AM fROM nEPAL.wHERE aRE YOU fROM.\n"
          ]
        }
      ]
    },
    {
      "cell_type": "code",
      "source": [
        "swapped_string=\"\"\n",
        "name=\"RaMnAGaR bHUmahI\"\n",
        "for k in name:\n",
        "  if k.isupper():\n",
        "    swapped_string=swapped_string+k.lower()\n",
        "  else:\n",
        "    swapped_string=swapped_string+k.upper()\n",
        "print(swapped_string)\n"
      ],
      "metadata": {
        "colab": {
          "base_uri": "https://localhost:8080/"
        },
        "id": "Fp2zy34x-DRT",
        "outputId": "6b215b18-16a8-4095-b60b-dc97104e58f4"
      },
      "execution_count": null,
      "outputs": [
        {
          "output_type": "stream",
          "name": "stdout",
          "text": [
            "rAmNagAr BhuMAHi\n"
          ]
        }
      ]
    },
    {
      "cell_type": "code",
      "source": [
        "\n",
        "a=[1,7,3,10,5,6]\n",
        "a.sort()\n",
        "print(a)"
      ],
      "metadata": {
        "colab": {
          "base_uri": "https://localhost:8080/"
        },
        "id": "mK6MoVU3AgyI",
        "outputId": "cb4e439e-2a2b-41b3-ca66-37f10fc8792d"
      },
      "execution_count": null,
      "outputs": [
        {
          "output_type": "stream",
          "name": "stdout",
          "text": [
            "[1, 3, 5, 6, 7, 10]\n"
          ]
        }
      ]
    },
    {
      "cell_type": "code",
      "source": [
        "a=[1,7,3,10,5,6]\n",
        "a.sort(reverse=True)\n",
        "print(a)"
      ],
      "metadata": {
        "colab": {
          "base_uri": "https://localhost:8080/"
        },
        "id": "MYj9qbDkBwRm",
        "outputId": "f1e4e964-d702-4bfb-cfbb-db2dd0a9edd1"
      },
      "execution_count": null,
      "outputs": [
        {
          "output_type": "stream",
          "name": "stdout",
          "text": [
            "[10, 7, 6, 5, 3, 1]\n"
          ]
        }
      ]
    },
    {
      "cell_type": "code",
      "source": [
        "## write a python program to sort letters of word by lower to upper case format.\n",
        "## Sorted function print string into list\n",
        "temp_str=\"Python Programming IS EASY IF you practise\"\n",
        "lower_str=\"\"\n",
        "upper_str=\"\"\n",
        "for k in temp_str:\n",
        "  if k.islower():\n",
        "    lower_str=lower_str+k\n",
        "  else:\n",
        "    upper_str=upper_str+k\n",
        "lower_str=sorted(lower_str)\n",
        "upper_str=sorted(upper_str)\n",
        "print(lower_str+upper_str)\n",
        "print(\"\".join(lower_str+upper_str))\n",
        "\n",
        "\n"
      ],
      "metadata": {
        "colab": {
          "base_uri": "https://localhost:8080/"
        },
        "id": "iYXBQvQKE9Bj",
        "outputId": "4c339226-8015-4f2f-9bd2-f8b3a19f603b"
      },
      "execution_count": null,
      "outputs": [
        {
          "output_type": "stream",
          "name": "stdout",
          "text": [
            "['a', 'a', 'c', 'e', 'g', 'g', 'h', 'i', 'i', 'm', 'm', 'n', 'n', 'o', 'o', 'o', 'p', 'r', 'r', 'r', 's', 't', 't', 'u', 'y', 'y', ' ', ' ', ' ', ' ', ' ', ' ', 'A', 'E', 'F', 'I', 'I', 'P', 'P', 'S', 'S', 'Y']\n",
            "aacegghiimmnnoooprrrsttuyy      AEFIIPPSSY\n"
          ]
        }
      ]
    },
    {
      "cell_type": "code",
      "source": [
        "temp_str=\"Python Programming IS EASY IF you practise\"\n",
        "lower_str=\"\"\n",
        "upper_str=\"\"\n",
        "for k in temp_str:\n",
        "  if k.islower():\n",
        "    lower_str=lower_str+k\n",
        "  else:\n",
        "    upper_str=upper_str+k\n",
        "lower_str=sorted(lower_str)\n",
        "upper_str=sorted(upper_str)\n",
        "print(lower_str+upper_str)\n",
        "print(\"\".join(lower_str+upper_str))\n"
      ],
      "metadata": {
        "colab": {
          "base_uri": "https://localhost:8080/"
        },
        "id": "Av91OzPUPkAD",
        "outputId": "a6b948a3-10a4-439f-fd8e-1edefbff9ba1"
      },
      "execution_count": null,
      "outputs": [
        {
          "output_type": "stream",
          "name": "stdout",
          "text": [
            "['a', 'a', 'c', 'e', 'g', 'g', 'h', 'i', 'i', 'm', 'm', 'n', 'n', 'o', 'o', 'o', 'p', 'r', 'r', 'r', 's', 't', 't', 'u', 'y', 'y', ' ', ' ', ' ', ' ', ' ', ' ', 'A', 'E', 'F', 'I', 'I', 'P', 'P', 'S', 'S', 'Y']\n",
            "aacegghiimmnnoooprrrsttuyy      AEFIIPPSSY\n"
          ]
        }
      ]
    },
    {
      "cell_type": "code",
      "source": [
        "temp_str=\"Python Programming IS EASY IF you practise\"\n",
        "lower_str=[]\n",
        "upper_str=[]\n",
        "for k in temp_str:\n",
        "  if k.islower():\n",
        "    lower_str.append(k)\n",
        "  else:\n",
        "    upper_str.append(k)\n",
        "lower_str.sort()\n",
        "upper_str.sort()\n",
        "print(\"\".join(lower_str+upper_str))\n",
        "\n"
      ],
      "metadata": {
        "colab": {
          "base_uri": "https://localhost:8080/"
        },
        "id": "S95E5vYESG54",
        "outputId": "94c531b7-4c2e-41a1-dc68-f166240fb423"
      },
      "execution_count": null,
      "outputs": [
        {
          "output_type": "stream",
          "name": "stdout",
          "text": [
            "aacegghiimmnnoooprrrsttuyy      AEFIIPPSSY\n"
          ]
        }
      ]
    },
    {
      "cell_type": "code",
      "source": [
        "dir(\"hello\")"
      ],
      "metadata": {
        "colab": {
          "base_uri": "https://localhost:8080/"
        },
        "id": "kTUJI6x-V7Vd",
        "outputId": "87e4adf0-5483-4361-bc7b-eb3bce8316f5"
      },
      "execution_count": null,
      "outputs": [
        {
          "output_type": "execute_result",
          "data": {
            "text/plain": [
              "['__add__',\n",
              " '__class__',\n",
              " '__contains__',\n",
              " '__delattr__',\n",
              " '__dir__',\n",
              " '__doc__',\n",
              " '__eq__',\n",
              " '__format__',\n",
              " '__ge__',\n",
              " '__getattribute__',\n",
              " '__getitem__',\n",
              " '__getnewargs__',\n",
              " '__gt__',\n",
              " '__hash__',\n",
              " '__init__',\n",
              " '__init_subclass__',\n",
              " '__iter__',\n",
              " '__le__',\n",
              " '__len__',\n",
              " '__lt__',\n",
              " '__mod__',\n",
              " '__mul__',\n",
              " '__ne__',\n",
              " '__new__',\n",
              " '__reduce__',\n",
              " '__reduce_ex__',\n",
              " '__repr__',\n",
              " '__rmod__',\n",
              " '__rmul__',\n",
              " '__setattr__',\n",
              " '__sizeof__',\n",
              " '__str__',\n",
              " '__subclasshook__',\n",
              " 'capitalize',\n",
              " 'casefold',\n",
              " 'center',\n",
              " 'count',\n",
              " 'encode',\n",
              " 'endswith',\n",
              " 'expandtabs',\n",
              " 'find',\n",
              " 'format',\n",
              " 'format_map',\n",
              " 'index',\n",
              " 'isalnum',\n",
              " 'isalpha',\n",
              " 'isascii',\n",
              " 'isdecimal',\n",
              " 'isdigit',\n",
              " 'isidentifier',\n",
              " 'islower',\n",
              " 'isnumeric',\n",
              " 'isprintable',\n",
              " 'isspace',\n",
              " 'istitle',\n",
              " 'isupper',\n",
              " 'join',\n",
              " 'ljust',\n",
              " 'lower',\n",
              " 'lstrip',\n",
              " 'maketrans',\n",
              " 'partition',\n",
              " 'removeprefix',\n",
              " 'removesuffix',\n",
              " 'replace',\n",
              " 'rfind',\n",
              " 'rindex',\n",
              " 'rjust',\n",
              " 'rpartition',\n",
              " 'rsplit',\n",
              " 'rstrip',\n",
              " 'split',\n",
              " 'splitlines',\n",
              " 'startswith',\n",
              " 'strip',\n",
              " 'swapcase',\n",
              " 'title',\n",
              " 'translate',\n",
              " 'upper',\n",
              " 'zfill']"
            ]
          },
          "metadata": {},
          "execution_count": 13
        }
      ]
    },
    {
      "cell_type": "code",
      "source": [
        "## count upper, lower,number and spec count\n",
        "lower_count=0\n",
        "upper_count=0\n",
        "number_count=0\n",
        "spec_count=0\n",
        "\n",
        "str1 =\"ramnagar BHUMAHI 1256 $$$\"\n",
        "for i in str1:\n",
        "  if i.islower():\n",
        "    lower_count=lower_count+1\n",
        "  elif i.isupper():\n",
        "    upper_count=upper_count+1\n",
        "  elif i.isnumeric():\n",
        "    number_count=number_count+1\n",
        "  else:\n",
        "    spec_count=spec_count+1\n",
        "\n",
        "print(\"lower cases is:-\", lower_count)\n",
        "print(\"lower cases is:-\", upper_count)\n",
        "print(\"lower cases is:-\", number_count)\n",
        "print(\"lower cases is:-\", spec_count)"
      ],
      "metadata": {
        "colab": {
          "base_uri": "https://localhost:8080/"
        },
        "id": "oyrQDrScXWQ4",
        "outputId": "aa9e8d9f-c08e-4b99-eb2d-48a4450e36ab"
      },
      "execution_count": null,
      "outputs": [
        {
          "output_type": "stream",
          "name": "stdout",
          "text": [
            "lower cases is:- 8\n",
            "lower cases is:- 7\n",
            "lower cases is:- 4\n",
            "lower cases is:- 6\n"
          ]
        }
      ]
    },
    {
      "cell_type": "code",
      "source": [
        "##\"Write a program in Python to remove an empty character from a list sequence\". demo_list=['hello','1,'',bye]\n",
        "\n",
        "demo_list=[\"hello\",'1','','bye']\n",
        "demo_list.remove('') ##if '' multiple time it doesnot work\n",
        "print(demo_list)  ## pop remove by index , but remove remove by value."
      ],
      "metadata": {
        "colab": {
          "base_uri": "https://localhost:8080/"
        },
        "id": "qFbfQgI-ezM-",
        "outputId": "38b703c5-6510-4a46-9737-f9372ae78990"
      },
      "execution_count": null,
      "outputs": [
        {
          "output_type": "stream",
          "name": "stdout",
          "text": [
            "['hello', '1', 'bye']\n"
          ]
        }
      ]
    },
    {
      "cell_type": "code",
      "source": [
        "demo_list=[\"hello\",'1','','bye','','','']\n",
        "new_list=[]\n",
        "for k in demo_list:\n",
        "  if len(k)>0:\n",
        "    new_list.append(k)\n",
        "print(new_list)"
      ],
      "metadata": {
        "colab": {
          "base_uri": "https://localhost:8080/"
        },
        "id": "EY3dw_GjgpR-",
        "outputId": "15850cea-e916-47e8-9e49-d70023182e8c"
      },
      "execution_count": null,
      "outputs": [
        {
          "output_type": "stream",
          "name": "stdout",
          "text": [
            "['hello', '1', 'bye']\n"
          ]
        }
      ]
    },
    {
      "cell_type": "code",
      "source": [
        "## find the file extension from the name of the file for example demofile.pdf"
      ],
      "metadata": {
        "id": "l_0eycICpQAS"
      },
      "execution_count": null,
      "outputs": []
    },
    {
      "cell_type": "code",
      "source": [
        "name='excel.csv'\n",
        "for i in name:\n",
        "  if i=='.':\n",
        "    index=name.index(i)\n",
        "print(name[(index):len(name)])"
      ],
      "metadata": {
        "colab": {
          "base_uri": "https://localhost:8080/"
        },
        "id": "bf6D6gx1f6N0",
        "outputId": "8e6dc386-2fb4-4354-9eae-883829ee2b44"
      },
      "execution_count": null,
      "outputs": [
        {
          "output_type": "stream",
          "name": "stdout",
          "text": [
            ".csv\n"
          ]
        }
      ]
    },
    {
      "cell_type": "code",
      "source": [
        "str = \"demofile.pdf\"\n",
        "splt=str.split(\".\")\n",
        "print(\"the extension is\" ,splt[-1])"
      ],
      "metadata": {
        "colab": {
          "base_uri": "https://localhost:8080/"
        },
        "id": "ZTo4vQ8QqMy2",
        "outputId": "d04f24f1-b3db-4bd8-c909-971582f03691"
      },
      "execution_count": null,
      "outputs": [
        {
          "output_type": "stream",
          "name": "stdout",
          "text": [
            "the extension is pdf\n"
          ]
        }
      ]
    },
    {
      "cell_type": "code",
      "source": [
        "## split function\n",
        "text = 'digital marketing'\n",
        "print(text.split())"
      ],
      "metadata": {
        "colab": {
          "base_uri": "https://localhost:8080/"
        },
        "id": "W21e10NzruAk",
        "outputId": "60518fec-7f39-476b-ac68-6785a6fc3ce7"
      },
      "execution_count": null,
      "outputs": [
        {
          "output_type": "stream",
          "name": "stdout",
          "text": [
            "['digital', 'marketing']\n"
          ]
        }
      ]
    },
    {
      "cell_type": "code",
      "source": [
        "word = 'digital, marketing'\n",
        "print(word.split(','))"
      ],
      "metadata": {
        "colab": {
          "base_uri": "https://localhost:8080/"
        },
        "id": "AAef82Z-r7nr",
        "outputId": "545118ce-4ad9-4ec5-fa89-b546b72aed73"
      },
      "execution_count": null,
      "outputs": [
        {
          "output_type": "stream",
          "name": "stdout",
          "text": [
            "['digital', ' marketing']\n"
          ]
        }
      ]
    },
    {
      "cell_type": "code",
      "source": [
        "word = 'CutBatSitFatOr'\n",
        "print(word.split('t'))"
      ],
      "metadata": {
        "colab": {
          "base_uri": "https://localhost:8080/"
        },
        "id": "-3gQz7HhsXHD",
        "outputId": "343a9bb7-f8f6-45e1-f668-bbe9e7b19050"
      },
      "execution_count": null,
      "outputs": [
        {
          "output_type": "stream",
          "name": "stdout",
          "text": [
            "['Cu', 'Ba', 'Si', 'Fa', 'Or']\n"
          ]
        }
      ]
    },
    {
      "cell_type": "code",
      "source": [
        "word = 'digital. marketing'\n",
        "print(word.split('.'))"
      ],
      "metadata": {
        "colab": {
          "base_uri": "https://localhost:8080/"
        },
        "id": "hkvfbupZskqV",
        "outputId": "2e73d814-2115-405f-9d21-fac1b520302e"
      },
      "execution_count": null,
      "outputs": [
        {
          "output_type": "stream",
          "name": "stdout",
          "text": [
            "['digital', ' marketing']\n"
          ]
        }
      ]
    },
    {
      "cell_type": "code",
      "source": [
        "word = 'digital:marketing'\n",
        "print(word.split(':'))"
      ],
      "metadata": {
        "colab": {
          "base_uri": "https://localhost:8080/"
        },
        "id": "wHnFfP8Isxfh",
        "outputId": "76eee5a7-ca37-444d-b419-4924b96fe731"
      },
      "execution_count": null,
      "outputs": [
        {
          "output_type": "stream",
          "name": "stdout",
          "text": [
            "['digital', 'marketing']\n"
          ]
        }
      ]
    },
    {
      "cell_type": "markdown",
      "source": [
        "revision class 11 may"
      ],
      "metadata": {
        "id": "kRWvcrT_ujzQ"
      }
    },
    {
      "cell_type": "code",
      "source": [
        "## negative slicing\n",
        "str_temp=\"Hello Python Good Morning!\"\n",
        "print(str_temp[::-1])\n",
        "# positive indexing and negative slicing\n",
        "print(str_temp[8::-1])\n",
        "print(str_temp[8::-1])\n",
        "print(str_temp[16:12:-1])\n",
        "## Negative indexing and negative slicing\n",
        "print(str_temp[-8::-1])\n",
        "print(str_temp[-8::-2])\n",
        "## negative indexing and positive slicing\n",
        "print(str_temp[-8::1])\n",
        "print(str_temp[-20::1])"
      ],
      "metadata": {
        "colab": {
          "base_uri": "https://localhost:8080/"
        },
        "id": "MkbgLZDEv23C",
        "outputId": "ed4972f6-7615-46b5-901d-6d1173d5531b"
      },
      "execution_count": null,
      "outputs": [
        {
          "output_type": "stream",
          "name": "stdout",
          "text": [
            "!gninroM dooG nohtyP olleH\n",
            "tyP olleH\n",
            "tyP olleH\n",
            "dooG\n",
            "M dooG nohtyP olleH\n",
            "Mdo otPolH\n",
            "Morning!\n",
            "Python Good Morning!\n"
          ]
        }
      ]
    },
    {
      "cell_type": "code",
      "source": [
        "for k in range(50):\n",
        "  print(k)\n",
        "  k=k+2 ## not manipulated here (scopping of variable)"
      ],
      "metadata": {
        "id": "BFgLFcg0v_l0"
      },
      "execution_count": null,
      "outputs": []
    },
    {
      "cell_type": "code",
      "source": [
        "## Global variables\n",
        "a=20\n",
        "for k in range(50):\n",
        "  a=a+2\n",
        "print(a)"
      ],
      "metadata": {
        "colab": {
          "base_uri": "https://localhost:8080/"
        },
        "id": "8raNTctdrkBN",
        "outputId": "34e31323-d4df-419e-8fd0-3904d723016e"
      },
      "execution_count": null,
      "outputs": [
        {
          "output_type": "stream",
          "name": "stdout",
          "text": [
            "120\n"
          ]
        }
      ]
    },
    {
      "cell_type": "code",
      "source": [
        "for k in range(50):\n",
        "  a=0\n",
        "  a=a+2\n",
        "print(a)"
      ],
      "metadata": {
        "colab": {
          "base_uri": "https://localhost:8080/"
        },
        "id": "w2djFvOXv_5l",
        "outputId": "5e79d850-31ca-4cfd-d5be-30770832107f"
      },
      "execution_count": null,
      "outputs": [
        {
          "output_type": "stream",
          "name": "stdout",
          "text": [
            "2\n"
          ]
        }
      ]
    },
    {
      "cell_type": "code",
      "source": [
        "a=12345\n",
        "count=0\n",
        "while a>0:\n",
        "  a=a//10\n",
        "  count=count+1\n",
        "print(count)"
      ],
      "metadata": {
        "colab": {
          "base_uri": "https://localhost:8080/"
        },
        "id": "-Sl0gnFlum5N",
        "outputId": "5b8235f4-7326-4906-f129-b39a481431bf"
      },
      "execution_count": null,
      "outputs": [
        {
          "output_type": "stream",
          "name": "stdout",
          "text": [
            "5\n"
          ]
        }
      ]
    },
    {
      "cell_type": "code",
      "source": [
        "a=12345 # 5 iterations\n",
        "## a=123 # 3 iterations\n",
        "count=0\n",
        "for i in range(len(str(a))):\n",
        "  count=count+1\n",
        "print(count)  ###"
      ],
      "metadata": {
        "colab": {
          "base_uri": "https://localhost:8080/"
        },
        "id": "3vkRM5gau23C",
        "outputId": "423c07dd-e1f0-4026-cc89-816ca7c82fc9"
      },
      "execution_count": null,
      "outputs": [
        {
          "output_type": "stream",
          "name": "stdout",
          "text": [
            "5\n"
          ]
        }
      ]
    },
    {
      "cell_type": "markdown",
      "source": [
        "Nested Loops:\n",
        "A nested loop is a loop within a loop, an inner loop within the body of an outer one. How this works is that the first pass of the outer loop triggers the inner loop, which executes to completion. Then the second pass of the outer loop triggers the inner loop again. This repeats until the outer loop finishes. Of course, a break within either the inner or outer loop would interrupt this process."
      ],
      "metadata": {
        "id": "Xd30J6ASiYnV"
      }
    },
    {
      "cell_type": "code",
      "source": [
        "## print all even numbers for range 7\n",
        "for k in range(7):\n",
        "  allnumbers=\" \"\n",
        "  for j in range(k):  ## Basically nested loop are one loop wouldnot enough to solve the problem , you need another loop over the condition to get the solution.\n",
        "    if j%2==0:\n",
        "      allnumbers=allnumbers+\" \"+str(j)\n",
        "  print(\"all even numbers smaller then \" +str(k)+\" :-\", allnumbers)"
      ],
      "metadata": {
        "colab": {
          "base_uri": "https://localhost:8080/"
        },
        "id": "fETA3sXbwb5n",
        "outputId": "b45a6d31-fe08-488f-f8ec-77bcac46987f"
      },
      "execution_count": null,
      "outputs": [
        {
          "output_type": "stream",
          "name": "stdout",
          "text": [
            "all even numbers smaller then 0 :-  \n",
            "all even numbers smaller then 1 :-   0\n",
            "all even numbers smaller then 2 :-   0\n",
            "all even numbers smaller then 3 :-   0 2\n",
            "all even numbers smaller then 4 :-   0 2\n",
            "all even numbers smaller then 5 :-   0 2 4\n",
            "all even numbers smaller then 6 :-   0 2 4\n"
          ]
        }
      ]
    },
    {
      "cell_type": "code",
      "source": [
        "a=[1,2,4,4,5,5,5,6,7,8,9,0] ## list work on indexing\n",
        "print(set(a))"
      ],
      "metadata": {
        "colab": {
          "base_uri": "https://localhost:8080/"
        },
        "id": "t1aoZoisp5bD",
        "outputId": "644ede0d-c1ba-44a4-9753-4bb908b5977b"
      },
      "execution_count": null,
      "outputs": [
        {
          "output_type": "stream",
          "name": "stdout",
          "text": [
            "{0, 1, 2, 4, 5, 6, 7, 8, 9}\n"
          ]
        }
      ]
    },
    {
      "cell_type": "code",
      "source": [
        "a_str=\"jfjsdk flkjdjf oiiejiojioej  jfdjf \" ## set is collection of unique values.\n",
        "print(set(a_str))"
      ],
      "metadata": {
        "colab": {
          "base_uri": "https://localhost:8080/"
        },
        "id": "hWpVIuD0qaLW",
        "outputId": "6281344b-fc2d-496b-f407-4b6e12b8775c"
      },
      "execution_count": null,
      "outputs": [
        {
          "output_type": "stream",
          "name": "stdout",
          "text": [
            "{'d', 'o', 'e', 'l', 'i', 'j', 'f', 's', ' ', 'k'}\n"
          ]
        }
      ]
    },
    {
      "cell_type": "code",
      "source": [
        "dic={\"Messi\":91, \"Ronaldo\":200, \"Neymar\":50}\n",
        "print(dic[\"Messi\"]) ## dictionary work on keys:and value"
      ],
      "metadata": {
        "colab": {
          "base_uri": "https://localhost:8080/"
        },
        "id": "psDm9zONvHuv",
        "outputId": "b0305e96-2828-4b52-a9f8-18205e871dfa"
      },
      "execution_count": null,
      "outputs": [
        {
          "output_type": "stream",
          "name": "stdout",
          "text": [
            "91\n"
          ]
        }
      ]
    },
    {
      "cell_type": "code",
      "source": [
        "dic={\"Messi\":91, \"Ronaldo\":200, \"Neymar\":50}\n",
        "print(dic[0])  ## dic not work on indexing"
      ],
      "metadata": {
        "colab": {
          "base_uri": "https://localhost:8080/",
          "height": 190
        },
        "id": "Q-xzgsqiwMg_",
        "outputId": "0999548f-0856-468d-ddbb-3864a82f771c"
      },
      "execution_count": null,
      "outputs": [
        {
          "output_type": "error",
          "ename": "KeyError",
          "evalue": "ignored",
          "traceback": [
            "\u001b[0;31m---------------------------------------------------------------------------\u001b[0m",
            "\u001b[0;31mKeyError\u001b[0m                                  Traceback (most recent call last)",
            "\u001b[0;32m<ipython-input-11-85ea41f36d05>\u001b[0m in \u001b[0;36m<cell line: 2>\u001b[0;34m()\u001b[0m\n\u001b[1;32m      1\u001b[0m \u001b[0mdic\u001b[0m\u001b[0;34m=\u001b[0m\u001b[0;34m{\u001b[0m\u001b[0;34m\"Messi\"\u001b[0m\u001b[0;34m:\u001b[0m\u001b[0;36m91\u001b[0m\u001b[0;34m,\u001b[0m \u001b[0;34m\"Ronaldo\"\u001b[0m\u001b[0;34m:\u001b[0m\u001b[0;36m200\u001b[0m\u001b[0;34m,\u001b[0m \u001b[0;34m\"Neymar\"\u001b[0m\u001b[0;34m:\u001b[0m\u001b[0;36m50\u001b[0m\u001b[0;34m}\u001b[0m\u001b[0;34m\u001b[0m\u001b[0;34m\u001b[0m\u001b[0m\n\u001b[0;32m----> 2\u001b[0;31m \u001b[0mprint\u001b[0m\u001b[0;34m(\u001b[0m\u001b[0mdic\u001b[0m\u001b[0;34m[\u001b[0m\u001b[0;36m0\u001b[0m\u001b[0;34m]\u001b[0m\u001b[0;34m)\u001b[0m\u001b[0;34m\u001b[0m\u001b[0;34m\u001b[0m\u001b[0m\n\u001b[0m",
            "\u001b[0;31mKeyError\u001b[0m: 0"
          ]
        }
      ]
    },
    {
      "cell_type": "code",
      "source": [
        "dic={\"Messi\":91, \"Ronaldo\":200, \"Neymar\":50,\"Messi\":191}\n",
        "print(dic[\"Messi\"]) ## in dict if there is similar value it always remove the previous one."
      ],
      "metadata": {
        "colab": {
          "base_uri": "https://localhost:8080/"
        },
        "id": "4eDhYoawwtbA",
        "outputId": "75d3d05f-dc01-400b-b165-3295ee634a55"
      },
      "execution_count": null,
      "outputs": [
        {
          "output_type": "stream",
          "name": "stdout",
          "text": [
            "191\n"
          ]
        }
      ]
    },
    {
      "cell_type": "code",
      "source": [
        "dic={\"Messi\":91, \"Ronaldo\":200, \"Neymar\":50,\"Messi\":191}\n",
        "print(dic[\"Messi\"])"
      ],
      "metadata": {
        "colab": {
          "base_uri": "https://localhost:8080/"
        },
        "id": "ZvG7fNEp9Rzo",
        "outputId": "d470f322-e472-4dab-d110-4252fc159f29"
      },
      "execution_count": null,
      "outputs": [
        {
          "output_type": "stream",
          "name": "stdout",
          "text": [
            "191\n"
          ]
        }
      ]
    },
    {
      "cell_type": "code",
      "source": [
        "for name,age in dic.items():\n",
        "  print(name,age)\n"
      ],
      "metadata": {
        "colab": {
          "base_uri": "https://localhost:8080/"
        },
        "id": "El-Q92nB9Uif",
        "outputId": "e08360d2-dbbe-4a54-9a9b-8e7dc2595104"
      },
      "execution_count": null,
      "outputs": [
        {
          "output_type": "stream",
          "name": "stdout",
          "text": [
            "Messi 191\n",
            "Ronaldo 200\n",
            "Neymar 50\n"
          ]
        }
      ]
    },
    {
      "cell_type": "code",
      "source": [
        "for k in dic.keys():\n",
        "  print(k)\n",
        "\n",
        "for kk in dic.values():\n",
        "  print(kk)"
      ],
      "metadata": {
        "colab": {
          "base_uri": "https://localhost:8080/"
        },
        "id": "M-z8l8z0_lOT",
        "outputId": "305d7d21-31ce-44fe-e585-eed03448b2c0"
      },
      "execution_count": null,
      "outputs": [
        {
          "output_type": "stream",
          "name": "stdout",
          "text": [
            "Messi\n",
            "Ronaldo\n",
            "Neymar\n",
            "191\n",
            "200\n",
            "50\n"
          ]
        }
      ]
    },
    {
      "cell_type": "code",
      "source": [],
      "metadata": {
        "id": "T_NIECeP_laO"
      },
      "execution_count": null,
      "outputs": []
    },
    {
      "cell_type": "code",
      "source": [
        "bool1=bool(int(input(\"please enter the boolean value: \")))\n",
        "print(type(bool1))\n",
        "print(bool1)"
      ],
      "metadata": {
        "colab": {
          "base_uri": "https://localhost:8080/"
        },
        "id": "zkbcDt7IzZac",
        "outputId": "765f8b62-ed55-4669-c8a1-2451fcbde7e6"
      },
      "execution_count": null,
      "outputs": [
        {
          "output_type": "stream",
          "name": "stdout",
          "text": [
            "please enter the boolean value: 8\n",
            "<class 'bool'>\n",
            "True\n"
          ]
        }
      ]
    },
    {
      "cell_type": "code",
      "source": [
        "bool1=bool(int(input(\"please enter the boolean value: \")))\n",
        "print(type(bool1))\n",
        "print(bool1)"
      ],
      "metadata": {
        "colab": {
          "base_uri": "https://localhost:8080/"
        },
        "id": "Z0oDoKs20Kq5",
        "outputId": "900daa4d-650e-4dec-ed93-70806eb1f979"
      },
      "execution_count": null,
      "outputs": [
        {
          "output_type": "stream",
          "name": "stdout",
          "text": [
            "please enter the boolean value: 0\n",
            "<class 'bool'>\n",
            "False\n"
          ]
        }
      ]
    },
    {
      "cell_type": "code",
      "source": [
        "bool1=bool((input(\"please enter the boolean value: \")))\n",
        "print(type(bool1))\n",
        "print(bool1) ## Here 0 is used as string"
      ],
      "metadata": {
        "colab": {
          "base_uri": "https://localhost:8080/"
        },
        "id": "YBQGIKI20SXJ",
        "outputId": "fbd9eb32-8d91-4a2c-e773-a57be5c751ea"
      },
      "execution_count": null,
      "outputs": [
        {
          "output_type": "stream",
          "name": "stdout",
          "text": [
            "please enter the boolean value: 0\n",
            "<class 'bool'>\n",
            "True\n"
          ]
        }
      ]
    },
    {
      "cell_type": "code",
      "source": [
        "bool1=bool(input(\"please enter the boolean value: \"))\n",
        "print(type(bool1))\n",
        "print(bool1) ## false also used as string"
      ],
      "metadata": {
        "colab": {
          "base_uri": "https://localhost:8080/"
        },
        "id": "kBt5b04u0kTX",
        "outputId": "66ae29d2-e4cb-4485-f21f-043561a58de4"
      },
      "execution_count": null,
      "outputs": [
        {
          "output_type": "stream",
          "name": "stdout",
          "text": [
            "please enter the boolean value: false\n",
            "<class 'bool'>\n",
            "True\n"
          ]
        }
      ]
    },
    {
      "cell_type": "code",
      "source": [
        "dic={\"Messi\":input(), \"Ronaldo\":(), \"Neymar\":()}\n",
        "print(dic)"
      ],
      "metadata": {
        "colab": {
          "base_uri": "https://localhost:8080/"
        },
        "id": "Q-Idpj_Q0vl8",
        "outputId": "a69ee608-0583-40df-b7e9-0d7ba574d6ef"
      },
      "execution_count": null,
      "outputs": [
        {
          "output_type": "stream",
          "name": "stdout",
          "text": [
            "99\n",
            "{'Messi': '99', 'Ronaldo': (), 'Neymar': ()}\n"
          ]
        }
      ]
    },
    {
      "cell_type": "code",
      "source": [
        "dict_temp1=dict(name=\"sujan\",age=12,job=\"data scientist\")\n",
        "print(dict_temp1)"
      ],
      "metadata": {
        "colab": {
          "base_uri": "https://localhost:8080/"
        },
        "id": "pGzyLCTj78Jj",
        "outputId": "d34e64f5-89be-43a5-cea6-db7dfe91dcd2"
      },
      "execution_count": null,
      "outputs": [
        {
          "output_type": "stream",
          "name": "stdout",
          "text": [
            "{'name': 'sujan', 'age': 12, 'job': 'data scientist'}\n"
          ]
        }
      ]
    },
    {
      "cell_type": "code",
      "source": [
        "dict_temp1=dict(name=\"sujan\",age=12,job=\"data scientist\")\n",
        "dict_temp1[\"Place\"]=\"verginia\"\n",
        "print(dict_temp1)"
      ],
      "metadata": {
        "colab": {
          "base_uri": "https://localhost:8080/"
        },
        "id": "6AMDUSqH289k",
        "outputId": "db4b3bbc-5105-4244-84a7-c2792382dd46"
      },
      "execution_count": null,
      "outputs": [
        {
          "output_type": "stream",
          "name": "stdout",
          "text": [
            "{'name': 'sujan', 'age': 12, 'job': 'data scientist', 'Place': 'verginia'}\n"
          ]
        }
      ]
    },
    {
      "cell_type": "code",
      "source": [
        "dict_temp1=dict()\n",
        "dict_temp1[\"Place\"]=\"verginia\"\n",
        "print(dict_temp1)"
      ],
      "metadata": {
        "colab": {
          "base_uri": "https://localhost:8080/"
        },
        "id": "4MGdD6oU84zE",
        "outputId": "046a3e40-75c3-4d7c-bf00-c86a414d424d"
      },
      "execution_count": null,
      "outputs": [
        {
          "output_type": "stream",
          "name": "stdout",
          "text": [
            "{'Place': 'verginia'}\n"
          ]
        }
      ]
    },
    {
      "cell_type": "code",
      "source": [
        "str=\"hello python Programming\"\n",
        "dir(str)"
      ],
      "metadata": {
        "colab": {
          "base_uri": "https://localhost:8080/"
        },
        "id": "voRh0oDy-Oqw",
        "outputId": "b1867089-07a5-498e-9147-0ba3bb9ffdba"
      },
      "execution_count": null,
      "outputs": [
        {
          "output_type": "execute_result",
          "data": {
            "text/plain": [
              "['__add__',\n",
              " '__class__',\n",
              " '__contains__',\n",
              " '__delattr__',\n",
              " '__dir__',\n",
              " '__doc__',\n",
              " '__eq__',\n",
              " '__format__',\n",
              " '__ge__',\n",
              " '__getattribute__',\n",
              " '__getitem__',\n",
              " '__getnewargs__',\n",
              " '__gt__',\n",
              " '__hash__',\n",
              " '__init__',\n",
              " '__init_subclass__',\n",
              " '__iter__',\n",
              " '__le__',\n",
              " '__len__',\n",
              " '__lt__',\n",
              " '__mod__',\n",
              " '__mul__',\n",
              " '__ne__',\n",
              " '__new__',\n",
              " '__reduce__',\n",
              " '__reduce_ex__',\n",
              " '__repr__',\n",
              " '__rmod__',\n",
              " '__rmul__',\n",
              " '__setattr__',\n",
              " '__sizeof__',\n",
              " '__str__',\n",
              " '__subclasshook__',\n",
              " 'capitalize',\n",
              " 'casefold',\n",
              " 'center',\n",
              " 'count',\n",
              " 'encode',\n",
              " 'endswith',\n",
              " 'expandtabs',\n",
              " 'find',\n",
              " 'format',\n",
              " 'format_map',\n",
              " 'index',\n",
              " 'isalnum',\n",
              " 'isalpha',\n",
              " 'isascii',\n",
              " 'isdecimal',\n",
              " 'isdigit',\n",
              " 'isidentifier',\n",
              " 'islower',\n",
              " 'isnumeric',\n",
              " 'isprintable',\n",
              " 'isspace',\n",
              " 'istitle',\n",
              " 'isupper',\n",
              " 'join',\n",
              " 'ljust',\n",
              " 'lower',\n",
              " 'lstrip',\n",
              " 'maketrans',\n",
              " 'partition',\n",
              " 'removeprefix',\n",
              " 'removesuffix',\n",
              " 'replace',\n",
              " 'rfind',\n",
              " 'rindex',\n",
              " 'rjust',\n",
              " 'rpartition',\n",
              " 'rsplit',\n",
              " 'rstrip',\n",
              " 'split',\n",
              " 'splitlines',\n",
              " 'startswith',\n",
              " 'strip',\n",
              " 'swapcase',\n",
              " 'title',\n",
              " 'translate',\n",
              " 'upper',\n",
              " 'zfill']"
            ]
          },
          "metadata": {},
          "execution_count": 3
        }
      ]
    },
    {
      "cell_type": "code",
      "source": [
        "str1=\"hello python Programming\"\n",
        "str1.capitalize()\n"
      ],
      "metadata": {
        "colab": {
          "base_uri": "https://localhost:8080/",
          "height": 36
        },
        "id": "xM3H1LC-Bs-L",
        "outputId": "4a339825-c97b-4069-b67d-844800e06711"
      },
      "execution_count": null,
      "outputs": [
        {
          "output_type": "execute_result",
          "data": {
            "text/plain": [
              "'Hello python programming'"
            ],
            "application/vnd.google.colaboratory.intrinsic+json": {
              "type": "string"
            }
          },
          "metadata": {},
          "execution_count": 44
        }
      ]
    },
    {
      "cell_type": "code",
      "source": [
        "str1.casefold()"
      ],
      "metadata": {
        "colab": {
          "base_uri": "https://localhost:8080/",
          "height": 36
        },
        "id": "Phwsd_ytCkWy",
        "outputId": "71a8cc96-44bc-4110-c752-f7bc3b52aad0"
      },
      "execution_count": null,
      "outputs": [
        {
          "output_type": "execute_result",
          "data": {
            "text/plain": [
              "'hello python programming'"
            ],
            "application/vnd.google.colaboratory.intrinsic+json": {
              "type": "string"
            }
          },
          "metadata": {},
          "execution_count": 45
        }
      ]
    },
    {
      "cell_type": "code",
      "source": [
        "str1.lower()"
      ],
      "metadata": {
        "colab": {
          "base_uri": "https://localhost:8080/",
          "height": 36
        },
        "id": "dZrvLbYQCoxt",
        "outputId": "b987aa15-71dd-4a4b-b47d-c7b03fa8e36b"
      },
      "execution_count": null,
      "outputs": [
        {
          "output_type": "execute_result",
          "data": {
            "text/plain": [
              "'hello python programming'"
            ],
            "application/vnd.google.colaboratory.intrinsic+json": {
              "type": "string"
            }
          },
          "metadata": {},
          "execution_count": 46
        }
      ]
    },
    {
      "cell_type": "code",
      "source": [
        "str=\"hello python Programming\"\n",
        "str.center(27,'$')"
      ],
      "metadata": {
        "colab": {
          "base_uri": "https://localhost:8080/",
          "height": 36
        },
        "id": "90svFXAnCvqL",
        "outputId": "3422ce1e-b85f-481a-e5fa-407ec3ade87e"
      },
      "execution_count": null,
      "outputs": [
        {
          "output_type": "execute_result",
          "data": {
            "text/plain": [
              "'$$hello python Programming$'"
            ],
            "application/vnd.google.colaboratory.intrinsic+json": {
              "type": "string"
            }
          },
          "metadata": {},
          "execution_count": 9
        }
      ]
    },
    {
      "cell_type": "code",
      "source": [
        "str.count(\"h\")"
      ],
      "metadata": {
        "colab": {
          "base_uri": "https://localhost:8080/"
        },
        "id": "RjROLxCI8QjE",
        "outputId": "92c37886-41a1-4c85-cd77-b6d00c0e1b4b"
      },
      "execution_count": null,
      "outputs": [
        {
          "output_type": "execute_result",
          "data": {
            "text/plain": [
              "2"
            ]
          },
          "metadata": {},
          "execution_count": 10
        }
      ]
    },
    {
      "cell_type": "code",
      "source": [
        "str.endswith(\"ming\")"
      ],
      "metadata": {
        "colab": {
          "base_uri": "https://localhost:8080/"
        },
        "id": "1kpjt7MW8b9R",
        "outputId": "98e24aac-27a5-43df-ee1f-184440119eb5"
      },
      "execution_count": null,
      "outputs": [
        {
          "output_type": "execute_result",
          "data": {
            "text/plain": [
              "True"
            ]
          },
          "metadata": {},
          "execution_count": 11
        }
      ]
    },
    {
      "cell_type": "code",
      "source": [
        "str.endswith(\"Ming\")"
      ],
      "metadata": {
        "colab": {
          "base_uri": "https://localhost:8080/"
        },
        "id": "IxiSSG6P8b_1",
        "outputId": "6417e99f-bf98-46e0-9090-8ee578fcb8b1"
      },
      "execution_count": null,
      "outputs": [
        {
          "output_type": "execute_result",
          "data": {
            "text/plain": [
              "False"
            ]
          },
          "metadata": {},
          "execution_count": 12
        }
      ]
    },
    {
      "cell_type": "code",
      "source": [
        "str.find(\"tho\") ## it find starting index\n"
      ],
      "metadata": {
        "colab": {
          "base_uri": "https://localhost:8080/"
        },
        "id": "ZBHhDS298cCN",
        "outputId": "b6d156ad-f698-432c-de0b-243af04a15df"
      },
      "execution_count": null,
      "outputs": [
        {
          "output_type": "execute_result",
          "data": {
            "text/plain": [
              "8"
            ]
          },
          "metadata": {},
          "execution_count": 18
        }
      ]
    },
    {
      "cell_type": "code",
      "source": [
        "str.find(\"tho111\") ## if not there show negetive"
      ],
      "metadata": {
        "colab": {
          "base_uri": "https://localhost:8080/"
        },
        "id": "KEZHEpCr8cFu",
        "outputId": "d0c84c17-cc24-4e47-b0d7-ab66a7910c2a"
      },
      "execution_count": null,
      "outputs": [
        {
          "output_type": "execute_result",
          "data": {
            "text/plain": [
              "-1"
            ]
          },
          "metadata": {},
          "execution_count": 17
        }
      ]
    },
    {
      "cell_type": "code",
      "source": [
        "str.find(\"tho\")\n"
      ],
      "metadata": {
        "colab": {
          "base_uri": "https://localhost:8080/"
        },
        "id": "heAZwYNX8Q43",
        "outputId": "a8a365bc-ed71-4bb3-99dd-63874c73e4d4"
      },
      "execution_count": null,
      "outputs": [
        {
          "output_type": "execute_result",
          "data": {
            "text/plain": [
              "8"
            ]
          },
          "metadata": {},
          "execution_count": 19
        }
      ]
    },
    {
      "cell_type": "code",
      "source": [
        "str.index(\"tho\")"
      ],
      "metadata": {
        "colab": {
          "base_uri": "https://localhost:8080/"
        },
        "id": "iFLu-tTsBTtn",
        "outputId": "c45dafd0-f917-49d7-a2b8-b7471a64052e"
      },
      "execution_count": null,
      "outputs": [
        {
          "output_type": "execute_result",
          "data": {
            "text/plain": [
              "8"
            ]
          },
          "metadata": {},
          "execution_count": 20
        }
      ]
    },
    {
      "cell_type": "code",
      "source": [
        "str.index(\"tho111\") ## but in index show error . in find it shows -1"
      ],
      "metadata": {
        "colab": {
          "base_uri": "https://localhost:8080/",
          "height": 172
        },
        "id": "Y4p0ZgALBWD5",
        "outputId": "4b7b8b3d-cc61-490c-bc6a-15451dc3d58f"
      },
      "execution_count": null,
      "outputs": [
        {
          "output_type": "error",
          "ename": "ValueError",
          "evalue": "ignored",
          "traceback": [
            "\u001b[0;31m---------------------------------------------------------------------------\u001b[0m",
            "\u001b[0;31mValueError\u001b[0m                                Traceback (most recent call last)",
            "\u001b[0;32m<ipython-input-21-4ea8615c0ccc>\u001b[0m in \u001b[0;36m<cell line: 1>\u001b[0;34m()\u001b[0m\n\u001b[0;32m----> 1\u001b[0;31m \u001b[0mstr\u001b[0m\u001b[0;34m.\u001b[0m\u001b[0mindex\u001b[0m\u001b[0;34m(\u001b[0m\u001b[0;34m\"tho111\"\u001b[0m\u001b[0;34m)\u001b[0m\u001b[0;34m\u001b[0m\u001b[0;34m\u001b[0m\u001b[0m\n\u001b[0m",
            "\u001b[0;31mValueError\u001b[0m: substring not found"
          ]
        }
      ]
    },
    {
      "cell_type": "code",
      "source": [
        "x=str.isupper()\n",
        "print(x)"
      ],
      "metadata": {
        "colab": {
          "base_uri": "https://localhost:8080/"
        },
        "id": "WQHASo2DBg_v",
        "outputId": "7d9efd35-eb28-4b5c-9513-b5169fa4c5c3"
      },
      "execution_count": null,
      "outputs": [
        {
          "output_type": "stream",
          "name": "stdout",
          "text": [
            "False\n"
          ]
        }
      ]
    },
    {
      "cell_type": "code",
      "source": [
        "x=str.isspace()\n",
        "print(x)"
      ],
      "metadata": {
        "colab": {
          "base_uri": "https://localhost:8080/"
        },
        "id": "IONmQRTzCdD-",
        "outputId": "dbe617c3-7237-4aa2-c2cc-f38f415726ed"
      },
      "execution_count": null,
      "outputs": [
        {
          "output_type": "stream",
          "name": "stdout",
          "text": [
            "False\n"
          ]
        }
      ]
    },
    {
      "cell_type": "code",
      "source": [
        "str1=\"hello python Programming\"\n",
        "str1.replace(\"python\",\"bye\")"
      ],
      "metadata": {
        "colab": {
          "base_uri": "https://localhost:8080/",
          "height": 36
        },
        "id": "3rgBumNwCc4-",
        "outputId": "fd6c7981-e685-4575-e2ae-6504ab462514"
      },
      "execution_count": null,
      "outputs": [
        {
          "output_type": "execute_result",
          "data": {
            "text/plain": [
              "'hello bye Programming'"
            ],
            "application/vnd.google.colaboratory.intrinsic+json": {
              "type": "string"
            }
          },
          "metadata": {},
          "execution_count": 26
        }
      ]
    },
    {
      "cell_type": "code",
      "source": [
        "str1=\"hello python Programming\"\n",
        "str1.replace(\"Python\",\"bye\") ## IT WILL NOT REPLACE COZ P is not there it is p"
      ],
      "metadata": {
        "colab": {
          "base_uri": "https://localhost:8080/",
          "height": 36
        },
        "id": "XiM0rBggCcqP",
        "outputId": "ee51012e-9cab-4c54-ea80-ff73540640e0"
      },
      "execution_count": null,
      "outputs": [
        {
          "output_type": "execute_result",
          "data": {
            "text/plain": [
              "'hello python Programming'"
            ],
            "application/vnd.google.colaboratory.intrinsic+json": {
              "type": "string"
            }
          },
          "metadata": {},
          "execution_count": 27
        }
      ]
    },
    {
      "cell_type": "code",
      "source": [
        "str1=\"hello python Programming.pdf\"\n",
        "str1.split(\".\")\n"
      ],
      "metadata": {
        "colab": {
          "base_uri": "https://localhost:8080/"
        },
        "id": "Dm4GVgW0CcZj",
        "outputId": "b46cf1bb-b1db-4221-d1a4-029042ad4355"
      },
      "execution_count": null,
      "outputs": [
        {
          "output_type": "execute_result",
          "data": {
            "text/plain": [
              "['hello python Programming', 'pdf']"
            ]
          },
          "metadata": {},
          "execution_count": 28
        }
      ]
    },
    {
      "cell_type": "code",
      "source": [
        "str1=\"hello python Programming\"\n",
        "str1.split(\" \")"
      ],
      "metadata": {
        "colab": {
          "base_uri": "https://localhost:8080/"
        },
        "id": "geWLB8vQErvz",
        "outputId": "31ce26ae-2d9c-47dc-b2af-02a255580d21"
      },
      "execution_count": null,
      "outputs": [
        {
          "output_type": "execute_result",
          "data": {
            "text/plain": [
              "['hello', 'python', 'Programming']"
            ]
          },
          "metadata": {},
          "execution_count": 29
        }
      ]
    },
    {
      "cell_type": "code",
      "source": [
        "list2=[1,2,3,4,5,6,7]\n",
        "list2.append(9)\n",
        "list2"
      ],
      "metadata": {
        "id": "kOeDcN5FEr7g",
        "colab": {
          "base_uri": "https://localhost:8080/"
        },
        "outputId": "cb7af020-9329-4194-e912-a48709d67620"
      },
      "execution_count": null,
      "outputs": [
        {
          "output_type": "execute_result",
          "data": {
            "text/plain": [
              "[1, 2, 3, 4, 5, 6, 7, 9]"
            ]
          },
          "metadata": {},
          "execution_count": 2
        }
      ]
    },
    {
      "cell_type": "code",
      "source": [
        "list2.append([9,8,7])\n",
        "list2.extend([8,7,6])\n",
        "list2"
      ],
      "metadata": {
        "id": "GbnZNlcWEr-U",
        "colab": {
          "base_uri": "https://localhost:8080/"
        },
        "outputId": "e3ca686d-8b1a-4d06-e08a-154da88cc6a9"
      },
      "execution_count": null,
      "outputs": [
        {
          "output_type": "execute_result",
          "data": {
            "text/plain": [
              "[1, 2, 3, 4, 5, 6, 7, 9, [9, 8, 7], 8, 7, 6]"
            ]
          },
          "metadata": {},
          "execution_count": 3
        }
      ]
    },
    {
      "cell_type": "code",
      "source": [],
      "metadata": {
        "id": "M5AE_rpteDzw"
      },
      "execution_count": null,
      "outputs": []
    },
    {
      "cell_type": "code",
      "source": [
        "list2=[1,2,3,4,5,6,7]\n",
        "list2_copy=list2.copy()\n",
        "list2_copy_1=list2\n",
        "list2.append(88)\n",
        "print(list2_copy)\n",
        "print(list2_copy_1)\n",
        "\n"
      ],
      "metadata": {
        "colab": {
          "base_uri": "https://localhost:8080/"
        },
        "id": "uf5BHI8xeC0-",
        "outputId": "afbde044-eca2-4e47-d12f-1a4a256daa31"
      },
      "execution_count": null,
      "outputs": [
        {
          "output_type": "stream",
          "name": "stdout",
          "text": [
            "[1, 2, 3, 4, 5, 6, 7]\n",
            "[1, 2, 3, 4, 5, 6, 7, 88]\n"
          ]
        }
      ]
    },
    {
      "cell_type": "code",
      "source": [
        "list2=[1,2,3,4,5,6,7]\n",
        "list2.pop()\n"
      ],
      "metadata": {
        "colab": {
          "base_uri": "https://localhost:8080/"
        },
        "id": "YolB_dkxfICZ",
        "outputId": "8c1a5cd3-8cc9-4b66-9125-d670f6c175ef"
      },
      "execution_count": null,
      "outputs": [
        {
          "output_type": "execute_result",
          "data": {
            "text/plain": [
              "7"
            ]
          },
          "metadata": {},
          "execution_count": 7
        }
      ]
    },
    {
      "cell_type": "code",
      "source": [
        "list2=[1,2,3,4,5,6,7]\n",
        "list2.pop()\n",
        "print(list2)"
      ],
      "metadata": {
        "colab": {
          "base_uri": "https://localhost:8080/"
        },
        "id": "xC8iTm2FfWkD",
        "outputId": "faa34168-0cd1-4b2a-cf0b-bb672cb76cb7"
      },
      "execution_count": null,
      "outputs": [
        {
          "output_type": "stream",
          "name": "stdout",
          "text": [
            "[1, 2, 3, 4, 5, 6]\n"
          ]
        }
      ]
    },
    {
      "cell_type": "code",
      "source": [
        "list2=[1,2,3,4,5,6,7]\n",
        "removed_value = list2.pop(2)\n",
        "print(list2)\n",
        "print(removed_value)"
      ],
      "metadata": {
        "colab": {
          "base_uri": "https://localhost:8080/"
        },
        "id": "PRuhy6gpfawN",
        "outputId": "58a39fb7-7004-4487-9536-3558bce29810"
      },
      "execution_count": null,
      "outputs": [
        {
          "output_type": "stream",
          "name": "stdout",
          "text": [
            "[1, 2, 4, 5, 6, 7]\n",
            "3\n"
          ]
        }
      ]
    },
    {
      "cell_type": "code",
      "source": [
        "list2=[1,2,3,4,5,6,7]\n",
        "list2.remove(4)\n",
        "print(list2)"
      ],
      "metadata": {
        "colab": {
          "base_uri": "https://localhost:8080/"
        },
        "id": "reaAcuzagMFH",
        "outputId": "576dffc5-d0d0-4bf9-cd75-d3167326eb63"
      },
      "execution_count": null,
      "outputs": [
        {
          "output_type": "stream",
          "name": "stdout",
          "text": [
            "[1, 2, 3, 5, 6, 7]\n"
          ]
        }
      ]
    },
    {
      "cell_type": "code",
      "source": [
        "list2=[1,2,3,4,5,6,7,4]\n",
        "list2.remove(4)\n",
        "print(list2)"
      ],
      "metadata": {
        "colab": {
          "base_uri": "https://localhost:8080/"
        },
        "id": "1f7SVB8RgVAU",
        "outputId": "10064140-b71f-4f13-f230-85413ef6ed2f"
      },
      "execution_count": null,
      "outputs": [
        {
          "output_type": "stream",
          "name": "stdout",
          "text": [
            "[1, 2, 3, 5, 6, 7, 4]\n"
          ]
        }
      ]
    },
    {
      "cell_type": "code",
      "source": [
        "list2=[1,2,3,4,5,6,7,4]\n",
        "list2.sort()\n",
        "print(list2)"
      ],
      "metadata": {
        "colab": {
          "base_uri": "https://localhost:8080/"
        },
        "id": "qzU7GyiXgi0F",
        "outputId": "7fb894a9-5eee-401b-c3a0-8e7c549f304c"
      },
      "execution_count": null,
      "outputs": [
        {
          "output_type": "stream",
          "name": "stdout",
          "text": [
            "[1, 2, 3, 4, 4, 5, 6, 7]\n"
          ]
        }
      ]
    },
    {
      "cell_type": "code",
      "source": [
        "list2=[1,2,3,4,5,6,7,4]\n",
        "list2.sort(reverse=True)\n",
        "print(list2)"
      ],
      "metadata": {
        "colab": {
          "base_uri": "https://localhost:8080/"
        },
        "id": "A1rfZQjMgtKj",
        "outputId": "feaf8999-e626-4917-8a56-f477b12fe98d"
      },
      "execution_count": null,
      "outputs": [
        {
          "output_type": "stream",
          "name": "stdout",
          "text": [
            "[7, 6, 5, 4, 4, 3, 2, 1]\n"
          ]
        }
      ]
    },
    {
      "cell_type": "code",
      "source": [
        "list2=[1,2,3,4,5,6,7,4]\n",
        "list2[::-1]"
      ],
      "metadata": {
        "colab": {
          "base_uri": "https://localhost:8080/"
        },
        "id": "2bqhBUv_hngL",
        "outputId": "e7795a4b-9dbe-41f7-a179-d2c6b95d94eb"
      },
      "execution_count": null,
      "outputs": [
        {
          "output_type": "execute_result",
          "data": {
            "text/plain": [
              "[4, 7, 6, 5, 4, 3, 2, 1]"
            ]
          },
          "metadata": {},
          "execution_count": 18
        }
      ]
    },
    {
      "cell_type": "markdown",
      "source": [
        "Test Revision-may 12\n"
      ],
      "metadata": {
        "id": "ZyfxIOkuQyt-"
      }
    },
    {
      "cell_type": "code",
      "source": [
        "## write the function to calculate the area and circumference of circle"
      ],
      "metadata": {
        "id": "b1dNqRaBQ5O5"
      },
      "execution_count": null,
      "outputs": []
    },
    {
      "cell_type": "code",
      "source": [
        "def area_of_circle(radius):\n",
        "  return 3.14*radius**2,2*3.14*radius\n",
        "  radius=6\n",
        "print(\"area and circumference of circle : \", area_of_circle(6))\n"
      ],
      "metadata": {
        "colab": {
          "base_uri": "https://localhost:8080/"
        },
        "id": "rgk1JmtXRGSR",
        "outputId": "a5f04245-7cc1-429b-a65b-10765178d276"
      },
      "execution_count": null,
      "outputs": [
        {
          "output_type": "stream",
          "name": "stdout",
          "text": [
            "area and circumference of circle :  (113.04, 37.68)\n"
          ]
        }
      ]
    },
    {
      "cell_type": "code",
      "source": [
        "def area_of_circle(radius):\n",
        "  return 3.14*radius**2\n",
        "def cirumference_of_circle(radius):\n",
        "  return 2*3.12*radius\n",
        "radius=10\n",
        "print(\"area of circle:- \", area_of_circle(10))\n",
        "print(\"circumference of circle:- \", cirumference_of_circle(10))\n"
      ],
      "metadata": {
        "colab": {
          "base_uri": "https://localhost:8080/"
        },
        "id": "Dg5J5dxrToFZ",
        "outputId": "c1bdbb21-4aa0-4ce7-e581-864462fe2245"
      },
      "execution_count": null,
      "outputs": [
        {
          "output_type": "stream",
          "name": "stdout",
          "text": [
            "area of circle:-  314.0\n",
            "circumference of circle:-  62.400000000000006\n"
          ]
        }
      ]
    },
    {
      "cell_type": "code",
      "source": [
        "## A certain print order cost $3.00 per copy for orders of less than 10 copies $1.25 for orders of 10-99 copies\n",
        "## and 0.9 per copy for 100 copies or more.write a function that returns a total price for the order."
      ],
      "metadata": {
        "id": "Ldz64b7JUwAI"
      },
      "execution_count": null,
      "outputs": []
    },
    {
      "cell_type": "code",
      "source": [
        "copies=320\n",
        "def cost_of_copies(copies):\n",
        "  if copies<10:\n",
        "    cost=3\n",
        "  elif copies<100:\n",
        "    cost=1.25\n",
        "  elif copies>99:\n",
        "    cost=.9\n",
        "  return cost*copies\n",
        "print(\"cost for \" +str(copies)+\":-\", cost_of_copies(copies))"
      ],
      "metadata": {
        "colab": {
          "base_uri": "https://localhost:8080/"
        },
        "id": "DKxMkx17dn51",
        "outputId": "240c06c6-05ff-4eaf-ef60-49ae934bc8ff"
      },
      "execution_count": null,
      "outputs": [
        {
          "output_type": "stream",
          "name": "stdout",
          "text": [
            "cost for 320:- 288.0\n"
          ]
        }
      ]
    },
    {
      "cell_type": "code",
      "source": [
        "copies=10\n",
        "def cost_of_copies(copies):\n",
        "  if copies<10:\n",
        "    cost=3\n",
        "  elif copies<100:\n",
        "    cost=1.25\n",
        "  elif copies>99:\n",
        "    cost=.9\n",
        "  return cost*copies\n",
        "print(\"cost for \"+str(copies)+\":\",cost_of_copies(copies))"
      ],
      "metadata": {
        "colab": {
          "base_uri": "https://localhost:8080/"
        },
        "id": "v-mppTHwjYWP",
        "outputId": "67452cb1-ff6e-4620-9158-bb04c0559fba"
      },
      "execution_count": null,
      "outputs": [
        {
          "output_type": "stream",
          "name": "stdout",
          "text": [
            "cost for 10: 12.5\n"
          ]
        }
      ]
    },
    {
      "cell_type": "code",
      "source": [
        "## write a function that takes in a list of integers or floats and returns True if the list contains duplicates and false if the list does not contain duplicate. use a type hint to \"enforce\" tje correct type.\n"
      ],
      "metadata": {
        "id": "JXNfqp63mdBk"
      },
      "execution_count": null,
      "outputs": []
    },
    {
      "cell_type": "code",
      "source": [
        "list1=[1,2,3,4,2,1]\n",
        "\n",
        "def check_duplicates(list_temp):\n",
        "  for k in list1:\n",
        "    temp_check=list_temp.copy()\n",
        "    temp_check.remove(k)\n",
        "    print(\"Removed list\", temp_check)\n",
        "    if k in temp_check:\n",
        "      return True\n",
        "  return False\n",
        "\n",
        "print(\"check duplicates :-\", check_duplicates(list1))\n"
      ],
      "metadata": {
        "id": "cyG9E-enm8OQ",
        "colab": {
          "base_uri": "https://localhost:8080/"
        },
        "outputId": "758fd456-bc5b-440f-9c7d-13085320905c"
      },
      "execution_count": null,
      "outputs": [
        {
          "output_type": "stream",
          "name": "stdout",
          "text": [
            "Removed list [2, 3, 4, 2, 1]\n",
            "check duplicates :- True\n"
          ]
        }
      ]
    },
    {
      "cell_type": "code",
      "source": [
        "list1=[1,2,3]\n",
        "\n",
        "def check_duplicates(list_temp):\n",
        "  for k in list1:\n",
        "    temp_check=list_temp.copy()\n",
        "    temp_check.remove(k)\n",
        "    print(\"Removed list\", temp_check)\n",
        "    if k in temp_check:\n",
        "      return True\n",
        "  return False\n",
        "\n",
        "print(\"check duplicates :-\", check_duplicates(list1))"
      ],
      "metadata": {
        "colab": {
          "base_uri": "https://localhost:8080/"
        },
        "id": "6ViIu1ZdsODq",
        "outputId": "cb884a0e-91f8-4c75-ccbf-8146fce53e9f"
      },
      "execution_count": null,
      "outputs": [
        {
          "output_type": "stream",
          "name": "stdout",
          "text": [
            "Removed list [2, 3]\n",
            "Removed list [1, 3]\n",
            "Removed list [1, 2]\n",
            "check duplicates :- False\n"
          ]
        }
      ]
    },
    {
      "cell_type": "code",
      "source": [
        "list1=[1,2,3]\n",
        "def check_duplicates(list_temp):\n",
        "  for k in range(len(list1)):\n",
        "    print(list1[k+1:], list1[k])\n",
        "    if list1[k] in list1[k+1:]:\n",
        "      return True\n",
        "  return False\n",
        "\n",
        "print(\"Check Dublicates :- \" , check_duplicates(list1))"
      ],
      "metadata": {
        "colab": {
          "base_uri": "https://localhost:8080/"
        },
        "id": "VwJeekVpwPph",
        "outputId": "f7b8f1b8-28e4-48a6-c3b4-048b8ff30c53"
      },
      "execution_count": null,
      "outputs": [
        {
          "output_type": "stream",
          "name": "stdout",
          "text": [
            "[2, 3] 1\n",
            "[3] 2\n",
            "[] 3\n",
            "Check Dublicates :-  False\n"
          ]
        }
      ]
    },
    {
      "cell_type": "code",
      "source": [
        "list1=[1,2,3,3,1]\n",
        "def check_duplicates(list_temp):\n",
        "  for k in range(len(list1)):\n",
        "    print(list1[k+1:], list1[k])\n",
        "    if list1[k] in list1[k+1:]:\n",
        "      return True\n",
        "  return False\n",
        "\n",
        "\n",
        "print(\"Check Dublicates :- \" , check_duplicates(list1))"
      ],
      "metadata": {
        "colab": {
          "base_uri": "https://localhost:8080/"
        },
        "id": "QZb_U5WkxZ4a",
        "outputId": "2041117c-f946-481e-c0e9-6b5e7259f9e3"
      },
      "execution_count": null,
      "outputs": [
        {
          "output_type": "stream",
          "name": "stdout",
          "text": [
            "[2, 3, 3, 1] 1\n",
            "Check Dublicates :-  True\n"
          ]
        }
      ]
    },
    {
      "cell_type": "code",
      "source": [
        "## write a functions that takes in a string and returns the string with all the vowels."
      ],
      "metadata": {
        "id": "A3Z_rszPuCV4"
      },
      "execution_count": null,
      "outputs": []
    },
    {
      "cell_type": "code",
      "source": [
        "string_temp=\"Hello Python PrOgramming\"\n",
        "\n",
        "def check_vowels(string_temp):\n",
        "  dem_string=\"\"\n",
        "  vowels=\"aeiou\"\n",
        "  for k in string_temp:\n",
        "    if k.lower() in vowels:\n",
        "      dem_string=dem_string+k\n",
        "  return dem_string\n",
        "\n",
        "print(check_vowels(string_temp))"
      ],
      "metadata": {
        "colab": {
          "base_uri": "https://localhost:8080/"
        },
        "id": "KF-78lMKuSSs",
        "outputId": "fe4c1d05-d0d6-4e57-ec0c-eb04ecbd09b0"
      },
      "execution_count": null,
      "outputs": [
        {
          "output_type": "stream",
          "name": "stdout",
          "text": [
            "eooOai\n"
          ]
        }
      ]
    },
    {
      "cell_type": "code",
      "source": [
        "string_temp=\"Hello Python PrOgramming\"\n",
        "\n",
        "def check_vowels(string_temp):\n",
        "  dem_string=\"\"\n",
        "  vowels=\"aeiou\"\n",
        "  for k in string_temp:\n",
        "    if k in vowels:\n",
        "      dem_string=dem_string+k\n",
        "  return dem_string\n",
        "\n",
        "print(check_vowels(string_temp))"
      ],
      "metadata": {
        "colab": {
          "base_uri": "https://localhost:8080/"
        },
        "id": "WJ5hIGgE08Sy",
        "outputId": "3821b33b-0086-434c-b695-f5d173905933"
      },
      "execution_count": null,
      "outputs": [
        {
          "output_type": "stream",
          "name": "stdout",
          "text": [
            "eooai\n"
          ]
        }
      ]
    },
    {
      "cell_type": "code",
      "source": [
        "## Using a loop(that is , without using a slice), write a function \"reverse_list\" and takes a lists as a input and return a copy of the list in which all the elements have been swapped(the first element with)"
      ],
      "metadata": {
        "id": "UfcugwlpOItE"
      },
      "execution_count": null,
      "outputs": []
    },
    {
      "cell_type": "code",
      "source": [
        "list_temp=[1,2,3,4,5,6,7]\n",
        "\n",
        "def reverse_list(list_temp):\n",
        "  reversed_list_val=[]\n",
        "  length=len(list_temp)\n",
        "  for p in range(length-1,-1,-1):\n",
        "    reversed_list_val.append(list_temp[p])\n",
        "  return reversed_list_val\n",
        "\n",
        "print(\"Reversed List:- \",reverse_list(list_temp))"
      ],
      "metadata": {
        "colab": {
          "base_uri": "https://localhost:8080/"
        },
        "id": "o0vN51LDV9Tl",
        "outputId": "69d6f271-31c3-4f07-9a1e-2a16c7659ddf"
      },
      "execution_count": 1,
      "outputs": [
        {
          "output_type": "stream",
          "name": "stdout",
          "text": [
            "Reversed List:-  [7, 6, 5, 4, 3, 2, 1]\n"
          ]
        }
      ]
    },
    {
      "cell_type": "code",
      "source": [
        "list_temp=[1,2,3,4,5,6,7]\n",
        "def reverse_list(list_temp):\n",
        "  return list_temp[::-1]\n",
        "print(\"Reversed List:- \",reverse_list(list_temp))\n",
        "\n"
      ],
      "metadata": {
        "colab": {
          "base_uri": "https://localhost:8080/"
        },
        "id": "EuWkfu3nXLrb",
        "outputId": "dc938f02-8ad2-450a-c6fd-287b9721cc11"
      },
      "execution_count": 2,
      "outputs": [
        {
          "output_type": "stream",
          "name": "stdout",
          "text": [
            "Reversed List:-  [7, 6, 5, 4, 3, 2, 1]\n"
          ]
        }
      ]
    },
    {
      "cell_type": "code",
      "source": [
        "list_temp=[1,2,3,4,5,6,7]\n",
        "\n",
        "def reverse_list(list_temp):\n",
        "  list_temp.reverse()\n",
        "  return list_temp\n",
        "print(\"Reversed List:- \",reverse_list(list_temp))"
      ],
      "metadata": {
        "colab": {
          "base_uri": "https://localhost:8080/"
        },
        "id": "Rl3u-X94XgAJ",
        "outputId": "cd266871-c3f1-4dad-fae7-c0c9c1eb5824"
      },
      "execution_count": 3,
      "outputs": [
        {
          "output_type": "stream",
          "name": "stdout",
          "text": [
            "Reversed List:-  [7, 6, 5, 4, 3, 2, 1]\n"
          ]
        }
      ]
    },
    {
      "cell_type": "code",
      "source": [
        "def is_prime(n):\n",
        "  for i in range(2, n//2):\n",
        "    if n%i==0:\n",
        "      return False\n",
        "  return True\n",
        "\n",
        "def generate_twins(start, end):\n",
        "  for i in range(start, end):\n",
        "    if 1%2!=0:\n",
        "      j= i+2\n",
        "      if(is_prime(i) and is_prime(j)):\n",
        "        print(\"Twin Pime number are :-\", i, j)\n",
        "\n",
        "generate_twins(3,1000)"
      ],
      "metadata": {
        "colab": {
          "base_uri": "https://localhost:8080/"
        },
        "id": "QtZTyKUYbQ_0",
        "outputId": "152e1dfa-b623-4a9b-d76f-219a7888632c"
      },
      "execution_count": 15,
      "outputs": [
        {
          "output_type": "stream",
          "name": "stdout",
          "text": [
            "Twin Pime number are :- 3 5\n",
            "Twin Pime number are :- 5 7\n",
            "Twin Pime number are :- 11 13\n",
            "Twin Pime number are :- 17 19\n",
            "Twin Pime number are :- 29 31\n",
            "Twin Pime number are :- 41 43\n",
            "Twin Pime number are :- 59 61\n",
            "Twin Pime number are :- 71 73\n",
            "Twin Pime number are :- 101 103\n",
            "Twin Pime number are :- 107 109\n",
            "Twin Pime number are :- 137 139\n",
            "Twin Pime number are :- 149 151\n",
            "Twin Pime number are :- 179 181\n",
            "Twin Pime number are :- 191 193\n",
            "Twin Pime number are :- 197 199\n",
            "Twin Pime number are :- 227 229\n",
            "Twin Pime number are :- 239 241\n",
            "Twin Pime number are :- 269 271\n",
            "Twin Pime number are :- 281 283\n",
            "Twin Pime number are :- 311 313\n",
            "Twin Pime number are :- 347 349\n",
            "Twin Pime number are :- 419 421\n",
            "Twin Pime number are :- 431 433\n",
            "Twin Pime number are :- 461 463\n",
            "Twin Pime number are :- 521 523\n",
            "Twin Pime number are :- 569 571\n",
            "Twin Pime number are :- 599 601\n",
            "Twin Pime number are :- 617 619\n",
            "Twin Pime number are :- 641 643\n",
            "Twin Pime number are :- 659 661\n",
            "Twin Pime number are :- 809 811\n",
            "Twin Pime number are :- 821 823\n",
            "Twin Pime number are :- 827 829\n",
            "Twin Pime number are :- 857 859\n",
            "Twin Pime number are :- 881 883\n"
          ]
        }
      ]
    }
  ]
}